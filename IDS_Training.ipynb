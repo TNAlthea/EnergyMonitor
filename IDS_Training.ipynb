{
 "cells": [
  {
   "cell_type": "code",
   "execution_count": null,
   "metadata": {},
   "outputs": [],
   "source": [
    "# Import necessary libraries\n",
    "import pandas as pd\n",
    "import mysql.connector\n",
    "from sqlalchemy import create_engine, Column, Integer, Float, String, DateTime\n",
    "from sqlalchemy.ext.declarative import declarative_base\n",
    "from sqlalchemy.orm import sessionmaker, declarative_base\n",
    "from sklearn.cluster import DBSCAN\n",
    "from sklearn.tree import DecisionTreeClassifier\n",
    "from sklearn.metrics import classification_report, confusion_matrix, recall_score, roc_auc_score, make_scorer, accuracy_score, precision_score, f1_score\n",
    "from sklearn.utils import resample\n",
    "from sklearn.ensemble import IsolationForest\n",
    "from sklearn.neighbors import LocalOutlierFactor\n",
    "from sklearn.model_selection import GridSearchCV\n",
    "\n",
    "from sklearn import svm\n",
    "from sklearn.neighbors import NearestNeighbors\n",
    "import matplotlib.pyplot as plt\n",
    "import seaborn as sns"
   ]
  },
  {
   "cell_type": "code",
   "execution_count": null,
   "metadata": {},
   "outputs": [],
   "source": [
    "# Configure database connection\n",
    "db_config = {\n",
    "    'host': 'localhost',\n",
    "    'user': 'root',\n",
    "    'password': '',\n",
    "    'database': 'db_esp32'\n",
    "}"
   ]
  },
  {
   "cell_type": "code",
   "execution_count": null,
   "metadata": {},
   "outputs": [],
   "source": [
    "# Fetch data from the database with only power > 0 and order by created_at in descending order\n",
    "def fetch_data():\n",
    "    conn = mysql.connector.connect(**db_config)\n",
    "    query = f\"SELECT * FROM electricity_monitor WHERE power > 0 ORDER BY created_at DESC\"\n",
    "    df = pd.read_sql(query, conn)\n",
    "    conn.close()\n",
    "    return df"
   ]
  },
  {
   "cell_type": "code",
   "execution_count": null,
   "metadata": {},
   "outputs": [],
   "source": [
    "# Resample the data to 10% of the original dataset\n",
    "def sampled_data():\n",
    "    df_data = fetch_data()\n",
    "    df_sampled = resample(df_data, n_samples=int(len(df_data) * 0.5), random_state=42)\n",
    "\n",
    "    return df_sampled\n",
    "    "
   ]
  },
  {
   "cell_type": "code",
   "execution_count": null,
   "metadata": {},
   "outputs": [],
   "source": [
    "# Calculate features\n",
    "def calculate_features(df):\n",
    "    df['mean_consumption'] = df['energy'].mean()\n",
    "    df['std_deviation'] = df['energy'].std()\n",
    "    df['peak_consumption'] = df['energy'].max()\n",
    "    return df[['mean_consumption', 'std_deviation', 'peak_consumption', 'created_at']].iloc[-1]\n"
   ]
  },
  {
   "cell_type": "code",
   "execution_count": null,
   "metadata": {},
   "outputs": [],
   "source": [
    "# Label data using DBSCAN\n",
    "def label_data(df):\n",
    "    clustering = DBSCAN(eps=0.5, min_samples=5).fit(df[['mean_consumption', 'std_deviation']])\n",
    "    df['label'] = clustering.labels_\n",
    "    return df"
   ]
  },
  {
   "cell_type": "code",
   "execution_count": null,
   "metadata": {},
   "outputs": [],
   "source": [
    "# Unsupervised Isolation Forest\n",
    "def isolation_forest(df):\n",
    "    clf = DecisionTreeClassifier()\n",
    "    clf.fit(df[['mean_consumption', 'std_deviation']], df['label'])\n",
    "    y_pred = clf.predict(df[['mean_consumption', 'std_deviation']])\n",
    "    print(confusion_matrix(df['label'], y_pred))\n",
    "    print(classification_report(df['label'], y_pred))"
   ]
  },
  {
   "cell_type": "code",
   "execution_count": null,
   "metadata": {},
   "outputs": [],
   "source": [
    "# Train Decision Tree model\n",
    "def train_supervised_model(df):\n",
    "    X = df[['mean_consumption', 'std_deviation']]\n",
    "    y = df['label']\n",
    "    model = DecisionTreeClassifier()\n",
    "    model.fit(X, y)\n",
    "    return model, X, y"
   ]
  },
  {
   "cell_type": "code",
   "execution_count": null,
   "metadata": {},
   "outputs": [],
   "source": [
    "df = fetch_data()\n",
    "df_sampled = sampled_data()"
   ]
  },
  {
   "cell_type": "code",
   "execution_count": null,
   "metadata": {},
   "outputs": [],
   "source": [
    "features = calculate_features(df)\n",
    "print(\"Calculated Features:\")\n",
    "print(features)"
   ]
  },
  {
   "cell_type": "code",
   "execution_count": null,
   "metadata": {},
   "outputs": [],
   "source": [
    "# Label data\n",
    "df = label_data(df)\n",
    "print(\"Labelled Data:\")\n",
    "print(df.head())\n"
   ]
  },
  {
   "cell_type": "code",
   "execution_count": null,
   "metadata": {},
   "outputs": [],
   "source": [
    "# Train the model\n",
    "model, X, y = train_supervised_model(df)\n",
    "print(\"Model Trained\")\n"
   ]
  },
  {
   "cell_type": "code",
   "execution_count": null,
   "metadata": {},
   "outputs": [],
   "source": [
    "# Predict and evaluate the model\n",
    "y_pred = model.predict(X)\n",
    "labels = df['label'].unique()\n",
    "print(\"Classification Report:\")\n",
    "print(classification_report(y, y_pred))\n",
    "print(\"Confusion Matrix:\")\n",
    "print(confusion_matrix(y, y_pred, labels=labels))\n",
    "print(\"Feature Importance:\")\n",
    "print(labels)"
   ]
  },
  {
   "cell_type": "code",
   "execution_count": null,
   "metadata": {},
   "outputs": [],
   "source": [
    "# Visualize the results\n",
    "sns.scatterplot(x='mean_consumption', y='std_deviation', hue='label', data=df)\n",
    "plt.title('DBSCAN Clustering')\n",
    "plt.show()\n",
    "\n",
    "sns.scatterplot(x='mean_consumption', y='std_deviation', hue=y_pred, data=df)\n",
    "plt.title('Decision Tree Predictions')\n",
    "plt.show()"
   ]
  }
 ],
 "metadata": {
  "kernelspec": {
   "display_name": "Python 3",
   "language": "python",
   "name": "python3"
  },
  "language_info": {
   "codemirror_mode": {
    "name": "ipython",
    "version": 3
   },
   "file_extension": ".py",
   "mimetype": "text/x-python",
   "name": "python",
   "nbconvert_exporter": "python",
   "pygments_lexer": "ipython3",
   "version": "3.11.5"
  }
 },
 "nbformat": 4,
 "nbformat_minor": 2
}
