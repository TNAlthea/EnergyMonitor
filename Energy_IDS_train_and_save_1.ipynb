{
 "cells": [
  {
   "cell_type": "markdown",
   "metadata": {},
   "source": [
    "# Train, test, export model for Electricty monitor IDS "
   ]
  },
  {
   "cell_type": "markdown",
   "metadata": {},
   "source": [
    "Datasets is from personal usage documentation\n",
    "<br> <br>\n",
    "Clustered with unsupervised algorithm - Isolation Foreset\n",
    "<br>\n",
    "Feature classifying/learning with supervised algorithm - Random Forest"
   ]
  },
  {
   "cell_type": "markdown",
   "metadata": {},
   "source": [
    "## Config"
   ]
  },
  {
   "cell_type": "markdown",
   "metadata": {},
   "source": [
    "### Import"
   ]
  },
  {
   "cell_type": "code",
   "execution_count": 2,
   "metadata": {},
   "outputs": [],
   "source": [
    "# Import necessary libraries\n",
    "import pandas as pd\n",
    "import numpy as np\n",
    "import itertools\n",
    "import matplotlib.pyplot as plt\n",
    "import datetime\n",
    "import joblib\n",
    "\n",
    "import mysql.connector\n",
    "from sklearn.preprocessing import StandardScaler\n",
    "from sklearn.cluster import DBSCAN\n",
    "from sklearn.tree import DecisionTreeClassifier\n",
    "from sklearn.metrics import classification_report, confusion_matrix, recall_score, roc_auc_score, make_scorer, accuracy_score, precision_score, f1_score\n",
    "from sklearn.utils import resample\n",
    "from sklearn.ensemble import IsolationForest, RandomForestClassifier\n",
    "from sklearn.neighbors import LocalOutlierFactor\n",
    "from sklearn.model_selection import GridSearchCV, train_test_split\n",
    "from sklearn.svm import OneClassSVM\n",
    "from sklearn.neighbors import NearestNeighbors\n",
    "import matplotlib.pyplot as plt\n",
    "import seaborn as sns"
   ]
  },
  {
   "cell_type": "markdown",
   "metadata": {},
   "source": [
    "### database config"
   ]
  },
  {
   "cell_type": "code",
   "execution_count": 3,
   "metadata": {},
   "outputs": [],
   "source": [
    "# Configure database connection\n",
    "db_config = {\n",
    "    'host': 'localhost',\n",
    "    'user': 'root',\n",
    "    'password': '',\n",
    "    'database': 'db_esp32'\n",
    "}"
   ]
  },
  {
   "cell_type": "code",
   "execution_count": 4,
   "metadata": {},
   "outputs": [
    {
     "name": "stderr",
     "output_type": "stream",
     "text": [
      "C:\\Users\\Sabian\\AppData\\Local\\Temp\\ipykernel_19880\\1538424201.py:5: UserWarning: pandas only supports SQLAlchemy connectable (engine/connection) or database string URI or sqlite3 DBAPI2 connection. Other DBAPI2 objects are not tested. Please consider using SQLAlchemy.\n",
      "  df = pd.read_sql(query, conn)\n"
     ]
    },
    {
     "name": "stdout",
     "output_type": "stream",
     "text": [
      "data_id         14342\n",
      "device_id       14342\n",
      "voltage         14342\n",
      "current         14342\n",
      "power           14342\n",
      "energy          14342\n",
      "frequency       14342\n",
      "power_factor    14342\n",
      "created_at      14342\n",
      "dtype: int64\n"
     ]
    },
    {
     "name": "stderr",
     "output_type": "stream",
     "text": [
      "C:\\Users\\Sabian\\AppData\\Local\\Temp\\ipykernel_19880\\1538424201.py:12: UserWarning: pandas only supports SQLAlchemy connectable (engine/connection) or database string URI or sqlite3 DBAPI2 connection. Other DBAPI2 objects are not tested. Please consider using SQLAlchemy.\n",
      "  device_ids = pd.read_sql(query, conn)\n"
     ]
    }
   ],
   "source": [
    "# Fetch data from the database with only power > 0 and order by created_at in descending order\n",
    "def fetch_data():\n",
    "    conn = mysql.connector.connect(**db_config)\n",
    "    query = f\"SELECT * FROM electricity_monitor WHERE power > 0.5 ORDER BY created_at DESC\"\n",
    "    df = pd.read_sql(query, conn)\n",
    "    conn.close()\n",
    "    return df\n",
    "\n",
    "def get_deviceId():\n",
    "    conn = mysql.connector.connect(**db_config)\n",
    "    query = f\"SELECT DISTINCT device_id FROM electricity_monitor\"\n",
    "    device_ids = pd.read_sql(query, conn)\n",
    "    return device_ids\n",
    "\n",
    "df = fetch_data()\n",
    "device_ids = get_deviceId()\n",
    "\n",
    "print(df.count())"
   ]
  },
  {
   "cell_type": "markdown",
   "metadata": {},
   "source": [
    "## Pre-processing"
   ]
  },
  {
   "cell_type": "markdown",
   "metadata": {},
   "source": [
    "### Load the datasets"
   ]
  },
  {
   "cell_type": "code",
   "execution_count": 5,
   "metadata": {},
   "outputs": [
    {
     "name": "stdout",
     "output_type": "stream",
     "text": [
      "Count: \n",
      " data_id         14342\n",
      "device_id       14342\n",
      "voltage         14342\n",
      "current         14342\n",
      "power           14342\n",
      "energy          14342\n",
      "frequency       14342\n",
      "power_factor    14342\n",
      "created_at      14342\n",
      "dtype: int64\n",
      "\n",
      "datasets: \n",
      "    data_id          device_id  voltage  current  power  energy  frequency  \\\n",
      "0   122335  D4:8A:FC:60:47:60    196.1    0.027    2.0   0.832       49.9   \n",
      "1   122334  D4:8A:FC:60:47:60    197.8    0.026    2.0   0.832       49.9   \n",
      "2   122333  D4:8A:FC:60:47:60    197.9    0.027    2.1   0.832       49.9   \n",
      "3   122332  D4:8A:FC:60:47:60    197.0    0.027    2.1   0.832       49.9   \n",
      "4   122331  D4:8A:FC:60:47:60    197.0    0.026    2.0   0.832       49.9   \n",
      "\n",
      "   power_factor          created_at  \n",
      "0          0.38 2024-07-10 09:36:18  \n",
      "1          0.39 2024-07-10 09:36:13  \n",
      "2          0.39 2024-07-10 09:36:08  \n",
      "3          0.39 2024-07-10 09:36:03  \n",
      "4          0.39 2024-07-10 09:35:58  \n",
      "\n",
      "\n",
      "device_ids: \n",
      "            device_id\n",
      "0  D4:8A:FC:60:47:60\n"
     ]
    }
   ],
   "source": [
    "print('Count: \\n', df.count())\n",
    "print('\\ndatasets: \\n', df.head())\n",
    "print('\\n')\n",
    "print('device_ids: \\n', device_ids)"
   ]
  },
  {
   "cell_type": "markdown",
   "metadata": {},
   "source": [
    "### Convert datetime into numeric"
   ]
  },
  {
   "cell_type": "code",
   "execution_count": 6,
   "metadata": {},
   "outputs": [],
   "source": [
    "# df['created_at'] = df['created_at'].astype('int64') // 10**9\n"
   ]
  },
  {
   "cell_type": "markdown",
   "metadata": {},
   "source": [
    "#### Handling missing values"
   ]
  },
  {
   "cell_type": "code",
   "execution_count": 7,
   "metadata": {},
   "outputs": [
    {
     "name": "stdout",
     "output_type": "stream",
     "text": [
      "before:\n",
      "\n",
      " data_id         0\n",
      "device_id       0\n",
      "voltage         0\n",
      "current         0\n",
      "power           0\n",
      "energy          0\n",
      "frequency       0\n",
      "power_factor    0\n",
      "created_at      0\n",
      "dtype: int64\n",
      "\n",
      "\n",
      "after:\n",
      " data_id         0\n",
      "device_id       0\n",
      "voltage         0\n",
      "current         0\n",
      "power           0\n",
      "energy          0\n",
      "frequency       0\n",
      "power_factor    0\n",
      "created_at      0\n",
      "dtype: int64\n"
     ]
    }
   ],
   "source": [
    "print(\"before:\\n\\n\", df.isnull().sum())\n",
    "# Fill missing values with median\n",
    "df['voltage'].fillna(df['voltage'].median())\n",
    "\n",
    "# Fill device_id with the latest id\n",
    "latest_id = device_ids['device_id'].iloc[-1]\n",
    "df['device_id'].fillna(latest_id)\n",
    "\n",
    "# Fill created_at with current date and time\n",
    "df['created_at'].fillna(pd.to_datetime('now'))\n",
    "\n",
    "print(\"\\n\\nafter:\\n\", df.isnull().sum())"
   ]
  },
  {
   "cell_type": "markdown",
   "metadata": {},
   "source": [
    "## Model Training"
   ]
  },
  {
   "cell_type": "markdown",
   "metadata": {},
   "source": [
    "### Split dataset for training and testing"
   ]
  },
  {
   "cell_type": "code",
   "execution_count": 8,
   "metadata": {},
   "outputs": [
    {
     "name": "stdout",
     "output_type": "stream",
     "text": [
      "data_id         9609\n",
      "device_id       9609\n",
      "voltage         9609\n",
      "current         9609\n",
      "power           9609\n",
      "energy          9609\n",
      "frequency       9609\n",
      "power_factor    9609\n",
      "created_at      9609\n",
      "dtype: int64\n"
     ]
    }
   ],
   "source": [
    "train_df, test_df = train_test_split(df, test_size=0.33, random_state=42)\n",
    "\n",
    "print(train_df.count())"
   ]
  },
  {
   "cell_type": "code",
   "execution_count": 9,
   "metadata": {},
   "outputs": [
    {
     "name": "stdout",
     "output_type": "stream",
     "text": [
      "Power Distribution in Training Data:\n",
      "count    9.609000e+03\n",
      "mean     2.175999e+04\n",
      "std      2.131282e+06\n",
      "min      6.000000e-01\n",
      "25%      1.090000e+01\n",
      "50%      1.680000e+01\n",
      "75%      2.020000e+01\n",
      "max      2.089200e+08\n",
      "Name: power, dtype: float64\n"
     ]
    }
   ],
   "source": [
    "# Inspect the distribution of the power feature\n",
    "print(\"Power Distribution in Training Data:\")\n",
    "print(train_df['power'].describe())"
   ]
  },
  {
   "cell_type": "markdown",
   "metadata": {},
   "source": [
    "### Unsupervised Learning - Isolation Forest"
   ]
  },
  {
   "cell_type": "markdown",
   "metadata": {},
   "source": [
    "### Train and predict "
   ]
  },
  {
   "cell_type": "code",
   "execution_count": 18,
   "metadata": {},
   "outputs": [
    {
     "name": "stdout",
     "output_type": "stream",
     "text": [
      "Score: [-0.07354423 -0.06092005 -0.05639264 ...  0.06359868  0.111713\n",
      "  0.11469054]\n"
     ]
    }
   ],
   "source": [
    "def train_if():\n",
    "    for device_id in device_ids['device_id']:\n",
    "        features = ['voltage', 'current', 'power', 'energy', 'frequency', 'power_factor']\n",
    "        # Train model\n",
    "        if_model = IsolationForest(contamination=0.1, random_state=42)\n",
    "        if_model.fit(train_df[train_df['device_id'] == device_id][features])\n",
    "\n",
    "        # Predict Label\n",
    "        df.loc[df['device_id'] == device_id, 'if_label'] = if_model.predict(df[df['device_id'] == device_id][features])\n",
    "        # Explicitly cast the 'if_label' column to string type\n",
    "        df['if_label'] = df['if_label'].astype(str)\n",
    "        # Conditional assignment using np.where\n",
    "        df.loc[df['device_id'] == device_id, 'if_label'] = np.where(df['if_label'] == '1.0', 'normal', 'anomaly')\n",
    "\n",
    "        score = if_model.decision_function(df[df['device_id'] == device_id][features])\n",
    "        print(f\"Score: {score}\")\n",
    "        filename = f'if_model_{device_id.replace(\":\", \"-\")}.pkl'\n",
    "        joblib.dump(if_model, filename)\n",
    "        \n",
    "         # Predict anomaly scores\n",
    "        scores = if_model.decision_function(df[df['device_id'] == device_id][features])\n",
    "    \n",
    "train_if()"
   ]
  },
  {
   "cell_type": "markdown",
   "metadata": {},
   "source": [
    "### Show results for rows that have normal label"
   ]
  },
  {
   "cell_type": "code",
   "execution_count": 11,
   "metadata": {},
   "outputs": [
    {
     "name": "stdout",
     "output_type": "stream",
     "text": [
      "    data_id          device_id  voltage  current  power  energy  frequency  \\\n",
      "12   122323  D4:8A:FC:60:47:60    199.8    0.030    2.5   0.832       50.0   \n",
      "13   122322  D4:8A:FC:60:47:60    198.3    0.033    2.9   0.832       50.0   \n",
      "14   122321  D4:8A:FC:60:47:60    200.2    0.031    2.6   0.832       50.0   \n",
      "15   122320  D4:8A:FC:60:47:60    199.4    0.030    2.5   0.832       50.0   \n",
      "17   122318  D4:8A:FC:60:47:60    200.1    0.027    2.1   0.832       50.0   \n",
      "26   121601  D4:8A:FC:60:47:60    206.2    0.345   42.4   0.815       50.0   \n",
      "32   121505  D4:8A:FC:60:47:60    206.1    0.379   47.8   0.813       50.0   \n",
      "33   121504  D4:8A:FC:60:47:60    205.5    0.381   47.9   0.813       50.0   \n",
      "34   121503  D4:8A:FC:60:47:60    205.9    0.382   48.1   0.813       50.0   \n",
      "35   121502  D4:8A:FC:60:47:60    205.6    0.383   48.3   0.813       50.0   \n",
      "\n",
      "    power_factor          created_at if_label  \n",
      "12          0.42 2024-07-10 09:35:18   normal  \n",
      "13          0.44 2024-07-10 09:35:13   normal  \n",
      "14          0.42 2024-07-10 09:35:08   normal  \n",
      "15          0.42 2024-07-10 09:35:03   normal  \n",
      "17          0.39 2024-07-10 09:34:53   normal  \n",
      "26          0.60 2024-07-09 23:55:18   normal  \n",
      "32          0.61 2024-07-09 23:47:18   normal  \n",
      "33          0.61 2024-07-09 23:47:13   normal  \n",
      "34          0.61 2024-07-09 23:47:08   normal  \n",
      "35          0.61 2024-07-09 23:47:03   normal  \n"
     ]
    }
   ],
   "source": [
    "print(df[df['if_label'] == 'normal'].head(10))\n"
   ]
  },
  {
   "cell_type": "code",
   "execution_count": 12,
   "metadata": {},
   "outputs": [
    {
     "name": "stdout",
     "output_type": "stream",
     "text": [
      "    data_id          device_id  voltage  current  power  energy  frequency  \\\n",
      "21   121606  D4:8A:FC:60:47:60    207.9    0.415   53.5   0.816       50.0   \n",
      "22   121605  D4:8A:FC:60:47:60    208.4    0.416   53.7   0.816       50.0   \n",
      "23   121604  D4:8A:FC:60:47:60    208.2    0.418   53.9   0.816       50.0   \n",
      "24   121603  D4:8A:FC:60:47:60    205.9    0.421   53.9   0.815       50.0   \n",
      "25   121602  D4:8A:FC:60:47:60    205.4    0.421   53.7   0.815       50.0   \n",
      "46   121491  D4:8A:FC:60:47:60    204.5    0.397   50.1   0.813       49.9   \n",
      "47   121490  D4:8A:FC:60:47:60    204.4    0.400   50.3   0.812       49.9   \n",
      "49   121488  D4:8A:FC:60:47:60    203.2    0.412   50.7   0.812       49.9   \n",
      "50   121487  D4:8A:FC:60:47:60    203.0    0.414   50.9   0.812       49.9   \n",
      "52   121485  D4:8A:FC:60:47:60    203.7    0.408   51.3   0.812       49.9   \n",
      "\n",
      "    power_factor          created_at if_label  \n",
      "21          0.62 2024-07-09 23:55:43  anomaly  \n",
      "22          0.62 2024-07-09 23:55:38  anomaly  \n",
      "23          0.62 2024-07-09 23:55:33  anomaly  \n",
      "24          0.62 2024-07-09 23:55:28  anomaly  \n",
      "25          0.62 2024-07-09 23:55:23  anomaly  \n",
      "46          0.62 2024-07-09 23:46:13  anomaly  \n",
      "47          0.62 2024-07-09 23:46:08  anomaly  \n",
      "49          0.61 2024-07-09 23:45:58  anomaly  \n",
      "50          0.61 2024-07-09 23:45:53  anomaly  \n",
      "52          0.62 2024-07-09 23:45:43  anomaly  \n"
     ]
    }
   ],
   "source": [
    "# testing apakah power di atas 20 watt ada yang normal\n",
    "print(df[(df['if_label'] != 'normal') & (df['power'] > 50) & (df['power'] < 60)].head(10))\n"
   ]
  },
  {
   "cell_type": "markdown",
   "metadata": {},
   "source": [
    "### Show results for rows that have anomaly label"
   ]
  },
  {
   "cell_type": "code",
   "execution_count": 13,
   "metadata": {},
   "outputs": [
    {
     "name": "stdout",
     "output_type": "stream",
     "text": [
      "   data_id          device_id  voltage  current  power  energy  frequency  \\\n",
      "0   122335  D4:8A:FC:60:47:60    196.1    0.027    2.0   0.832       49.9   \n",
      "1   122334  D4:8A:FC:60:47:60    197.8    0.026    2.0   0.832       49.9   \n",
      "2   122333  D4:8A:FC:60:47:60    197.9    0.027    2.1   0.832       49.9   \n",
      "3   122332  D4:8A:FC:60:47:60    197.0    0.027    2.1   0.832       49.9   \n",
      "4   122331  D4:8A:FC:60:47:60    197.0    0.026    2.0   0.832       49.9   \n",
      "5   122330  D4:8A:FC:60:47:60    196.4    0.026    1.9   0.832       49.9   \n",
      "6   122329  D4:8A:FC:60:47:60    195.1    0.027    2.1   0.832       49.9   \n",
      "7   122328  D4:8A:FC:60:47:60    195.7    0.027    2.1   0.832       49.9   \n",
      "8   122327  D4:8A:FC:60:47:60    197.2    0.026    2.0   0.832       49.9   \n",
      "9   122326  D4:8A:FC:60:47:60    196.4    0.027    2.1   0.832       50.0   \n",
      "\n",
      "   power_factor          created_at if_label  \n",
      "0          0.38 2024-07-10 09:36:18  anomaly  \n",
      "1          0.39 2024-07-10 09:36:13  anomaly  \n",
      "2          0.39 2024-07-10 09:36:08  anomaly  \n",
      "3          0.39 2024-07-10 09:36:03  anomaly  \n",
      "4          0.39 2024-07-10 09:35:58  anomaly  \n",
      "5          0.37 2024-07-10 09:35:53  anomaly  \n",
      "6          0.40 2024-07-10 09:35:48  anomaly  \n",
      "7          0.40 2024-07-10 09:35:43  anomaly  \n",
      "8          0.39 2024-07-10 09:35:38  anomaly  \n",
      "9          0.40 2024-07-10 09:35:33  anomaly  \n"
     ]
    }
   ],
   "source": [
    "print(df[df['if_label'] == 'anomaly'].head(10))"
   ]
  },
  {
   "cell_type": "code",
   "execution_count": 14,
   "metadata": {},
   "outputs": [
    {
     "name": "stdout",
     "output_type": "stream",
     "text": [
      "     data_id          device_id  voltage  current  power  energy  frequency  \\\n",
      "225   118317  D4:8A:FC:60:47:60    205.8    0.145   17.3   0.802       50.0   \n",
      "226   118316  D4:8A:FC:60:47:60    204.3    0.146   17.3   0.802       49.9   \n",
      "227   118315  D4:8A:FC:60:47:60    204.2    0.148   17.5   0.802       50.0   \n",
      "228   118314  D4:8A:FC:60:47:60    204.8    0.146   17.4   0.802       49.9   \n",
      "229   118313  D4:8A:FC:60:47:60    204.1    0.145   17.3   0.802       49.9   \n",
      "230   118312  D4:8A:FC:60:47:60    204.8    0.147   17.6   0.802       49.9   \n",
      "231   118311  D4:8A:FC:60:47:60    204.9    0.146   17.4   0.802       49.9   \n",
      "232   118310  D4:8A:FC:60:47:60    204.0    0.145   17.3   0.802       49.9   \n",
      "233   118309  D4:8A:FC:60:47:60    204.3    0.146   17.3   0.802       49.9   \n",
      "234   118308  D4:8A:FC:60:47:60    203.5    0.145   17.1   0.802       49.9   \n",
      "\n",
      "     power_factor          created_at if_label  \n",
      "225          0.58 2024-07-09 17:17:07   normal  \n",
      "226          0.58 2024-07-09 17:17:02   normal  \n",
      "227          0.58 2024-07-09 17:16:57   normal  \n",
      "228          0.58 2024-07-09 17:16:52   normal  \n",
      "229          0.58 2024-07-09 17:16:47   normal  \n",
      "230          0.58 2024-07-09 17:16:42   normal  \n",
      "231          0.58 2024-07-09 17:16:37   normal  \n",
      "232          0.58 2024-07-09 17:16:32   normal  \n",
      "233          0.58 2024-07-09 17:16:27   normal  \n",
      "234          0.58 2024-07-09 17:16:22   normal  \n"
     ]
    }
   ],
   "source": [
    "# testing apakah power di atas 17 di bawah 20 watt ada yang anomaly\n",
    "print(df[(df['if_label'] != 1.0) & (df['power'] > 17) & (df['power'] < 20)].head(10))\n"
   ]
  },
  {
   "cell_type": "markdown",
   "metadata": {},
   "source": [
    "## Supervised Learning - Random Forest"
   ]
  },
  {
   "cell_type": "code",
   "execution_count": 16,
   "metadata": {},
   "outputs": [
    {
     "name": "stdout",
     "output_type": "stream",
     "text": [
      "       data_id          device_id  voltage  current  power  energy  frequency  \\\n",
      "13652    20625  D4:8A:FC:60:47:60    200.1    0.173   20.4   1.114       50.0   \n",
      "12480    36966  D4:8A:FC:60:47:60    202.7    0.132   16.5   1.347       50.0   \n",
      "5151     86048  D4:8A:FC:60:47:60    209.3    0.136   16.6   0.663       50.0   \n",
      "2804     95136  D4:8A:FC:60:47:60    218.3    0.029    2.4   0.745       50.0   \n",
      "2211    108982  D4:8A:FC:60:47:60    211.3    0.161   20.3   0.756       50.0   \n",
      "\n",
      "       power_factor          created_at if_label  \n",
      "13652          0.59 2024-05-31 22:40:09   normal  \n",
      "12480          0.62 2024-06-08 13:52:48   normal  \n",
      "5151           0.58 2024-07-03 19:23:36   normal  \n",
      "2804           0.38 2024-07-06 20:19:01  anomaly  \n",
      "2211           0.60 2024-07-07 23:54:20   normal  \n"
     ]
    }
   ],
   "source": [
    "train_df, test_df = train_test_split(df, test_size=0.33, random_state=42)\n",
    "print(train_df.head())"
   ]
  },
  {
   "cell_type": "code",
   "execution_count": 17,
   "metadata": {},
   "outputs": [
    {
     "name": "stdout",
     "output_type": "stream",
     "text": [
      "Feature importances for device D4:8A:FC:60:47:60:\n",
      "voltage: 0.0620\n",
      "current: 0.2182\n",
      "power: 0.2573\n",
      "energy: 0.0497\n",
      "frequency: 0.0735\n",
      "power_factor: 0.3392\n"
     ]
    }
   ],
   "source": [
    "def train_rf():\n",
    "    for device_id in device_ids['device_id']:\n",
    "        features = ['voltage', 'current', 'power', 'energy', 'frequency', 'power_factor']\n",
    "        X = train_df[train_df['device_id'] == device_id][features]\n",
    "        y = train_df[train_df['device_id'] == device_id]['if_label']\n",
    "        \n",
    "        # Ensure there is data to train on\n",
    "        if not X.empty and not y.empty:\n",
    "            rf_model = RandomForestClassifier(n_estimators=100, random_state=42)\n",
    "            rf_model.fit(X, y)\n",
    "\n",
    "            filename = f'rf_model_{device_id.replace(\":\", \"-\")}.pkl'\n",
    "            joblib.dump(rf_model, filename)\n",
    "            \n",
    "            # Getting and printing feature importances\n",
    "            feature_importances = rf_model.feature_importances_\n",
    "            print(f\"Feature importances for device {device_id}:\")\n",
    "            for feature, importance in zip(features, feature_importances):\n",
    "                print(f\"{feature}: {importance:.4f}\")\n",
    "        else:\n",
    "            print(f\"No data available for device {device_id}, skipping...\")\n",
    "\n",
    "train_rf()"
   ]
  }
 ],
 "metadata": {
  "kernelspec": {
   "display_name": "Python 3",
   "language": "python",
   "name": "python3"
  },
  "language_info": {
   "codemirror_mode": {
    "name": "ipython",
    "version": 3
   },
   "file_extension": ".py",
   "mimetype": "text/x-python",
   "name": "python",
   "nbconvert_exporter": "python",
   "pygments_lexer": "ipython3",
   "version": "3.11.5"
  }
 },
 "nbformat": 4,
 "nbformat_minor": 2
}
