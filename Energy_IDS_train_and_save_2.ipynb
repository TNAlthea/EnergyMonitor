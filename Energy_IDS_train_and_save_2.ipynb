{
 "cells": [
  {
   "cell_type": "markdown",
   "metadata": {},
   "source": [
    "# Train, test, export model for Electricty monitor IDS "
   ]
  },
  {
   "cell_type": "markdown",
   "metadata": {},
   "source": [
    "Datasets is from personal usage documentation\n",
    "<br> <br>\n",
    "Clustered with unsupervised algorithm - Isolation Foreset\n",
    "<br>\n",
    "Feature classifying/learning with supervised algorithm - Random Forest"
   ]
  },
  {
   "cell_type": "markdown",
   "metadata": {},
   "source": [
    "## Config"
   ]
  },
  {
   "cell_type": "markdown",
   "metadata": {},
   "source": [
    "### Import"
   ]
  },
  {
   "cell_type": "code",
   "execution_count": 22,
   "metadata": {},
   "outputs": [],
   "source": [
    "# Import necessary libraries\n",
    "import pandas as pd\n",
    "import numpy as np\n",
    "import itertools\n",
    "import matplotlib.pyplot as plt\n",
    "import datetime\n",
    "import joblib\n",
    "\n",
    "from tabulate import tabulate\n",
    "\n",
    "from sqlalchemy import create_engine, Column, Integer, Float, String, DateTime\n",
    "from sqlalchemy.ext.declarative import declarative_base\n",
    "from sqlalchemy.orm import sessionmaker, declarative_base\n",
    "\n",
    "from sklearn.preprocessing import StandardScaler\n",
    "from sklearn.cluster import DBSCAN\n",
    "from sklearn.tree import DecisionTreeClassifier\n",
    "from sklearn.metrics import classification_report, confusion_matrix, recall_score, roc_auc_score, make_scorer, accuracy_score, precision_score, f1_score\n",
    "from sklearn.utils import resample  \n",
    "from sklearn.ensemble import IsolationForest, RandomForestClassifier\n",
    "from sklearn.neighbors import LocalOutlierFactor\n",
    "from sklearn.model_selection import GridSearchCV, train_test_split, cross_val_score\n",
    "from sklearn.svm import OneClassSVM\n",
    "from sklearn.neighbors import NearestNeighbors\n",
    "import matplotlib.pyplot as plt\n",
    "import seaborn as sns"
   ]
  },
  {
   "cell_type": "markdown",
   "metadata": {},
   "source": [
    "### database config"
   ]
  },
  {
   "cell_type": "code",
   "execution_count": 23,
   "metadata": {},
   "outputs": [],
   "source": [
    "# Configure database connection\n",
    "db_config = {\n",
    "    'host': 'localhost',\n",
    "    'user': 'root',\n",
    "    'password': '',\n",
    "    'database': 'db_esp32'\n",
    "}"
   ]
  },
  {
   "cell_type": "code",
   "execution_count": 24,
   "metadata": {},
   "outputs": [],
   "source": [
    "# Create engine and session\n",
    "engine = create_engine('mysql+mysqlconnector://root:@localhost/db_esp32')\n",
    "Session = sessionmaker(bind=engine)\n",
    "session = Session()\n",
    "\n",
    "# Create the Base class\n",
    "Base = declarative_base()\n",
    "\n",
    "# Define the ElectricityMonitor class\n",
    "class ElectricityMonitor(Base):\n",
    "    __tablename__ = 'electricity_monitor'  # Use your actual table name here\n",
    "    data_id = Column(Integer, primary_key=True)\n",
    "    device_id = Column(String(255))\n",
    "    voltage = Column(Float)\n",
    "    current = Column(Float)\n",
    "    power = Column(Float)\n",
    "    energy = Column(Float)\n",
    "    frequency = Column(Float)\n",
    "    power_factor = Column(Float)\n",
    "    created_at = Column(DateTime)"
   ]
  },
  {
   "cell_type": "code",
   "execution_count": 25,
   "metadata": {},
   "outputs": [
    {
     "name": "stdout",
     "output_type": "stream",
     "text": [
      "data_id         33868\n",
      "device_id       33868\n",
      "voltage         33868\n",
      "current         33868\n",
      "power           33868\n",
      "energy          33868\n",
      "frequency       33868\n",
      "power_factor    33868\n",
      "created_at      33868\n",
      "dtype: int64\n"
     ]
    }
   ],
   "source": [
    "# Fetch data from the database with only power > 0 and order by created_at in descending order\n",
    "def fetch_data():\n",
    "    query = session.query(ElectricityMonitor).where(ElectricityMonitor.power > 0.5).order_by(ElectricityMonitor.created_at.desc())\n",
    "    df = pd.read_sql(query.statement, query.session.bind)\n",
    "    return df\n",
    "\n",
    "def get_deviceId():\n",
    "    query = session.query(ElectricityMonitor.device_id).distinct()\n",
    "    device_ids = pd.read_sql(query.statement, query.session.bind)\n",
    "    return device_ids\n",
    "\n",
    "df = fetch_data()\n",
    "device_ids = get_deviceId()\n",
    "\n",
    "print(df.count())"
   ]
  },
  {
   "cell_type": "markdown",
   "metadata": {},
   "source": [
    "## Pre-processing"
   ]
  },
  {
   "cell_type": "markdown",
   "metadata": {},
   "source": [
    "### Load the datasets"
   ]
  },
  {
   "cell_type": "code",
   "execution_count": 26,
   "metadata": {},
   "outputs": [
    {
     "name": "stdout",
     "output_type": "stream",
     "text": [
      "Count: \n",
      " data_id         33868\n",
      "device_id       33868\n",
      "voltage         33868\n",
      "current         33868\n",
      "power           33868\n",
      "energy          33868\n",
      "frequency       33868\n",
      "power_factor    33868\n",
      "created_at      33868\n",
      "dtype: int64\n",
      "\n",
      "datasets: \n",
      "    data_id          device_id  voltage  current  power  energy  frequency  \\\n",
      "0   202729  D4:8A:FC:60:47:60    191.6    0.070    6.8   1.317       50.0   \n",
      "1   202728  D4:8A:FC:60:47:60    191.7    0.069    6.8   1.317       50.0   \n",
      "2   202727  D4:8A:FC:60:47:60    190.1    0.069    6.8   1.317       50.0   \n",
      "3   202726  D4:8A:FC:60:47:60    189.7    0.069    6.8   1.317       50.0   \n",
      "4   202725  D4:8A:FC:60:47:60    187.3    0.070    6.8   1.317       50.0   \n",
      "\n",
      "   power_factor          created_at  \n",
      "0          0.51 2024-07-27 20:16:54  \n",
      "1          0.51 2024-07-27 20:16:49  \n",
      "2          0.52 2024-07-27 20:16:44  \n",
      "3          0.52 2024-07-27 20:16:39  \n",
      "4          0.52 2024-07-27 20:16:34  \n",
      "\n",
      "\n",
      "device_ids: \n",
      "            device_id\n",
      "0  D4:8A:FC:60:47:60\n"
     ]
    }
   ],
   "source": [
    "print('Count: \\n', df.count())\n",
    "print('\\ndatasets: \\n', df.head())\n",
    "print('\\n')\n",
    "print('device_ids: \\n', device_ids)"
   ]
  },
  {
   "cell_type": "markdown",
   "metadata": {},
   "source": [
    "#### Handling missing values"
   ]
  },
  {
   "cell_type": "code",
   "execution_count": 27,
   "metadata": {},
   "outputs": [
    {
     "name": "stdout",
     "output_type": "stream",
     "text": [
      "before:\n",
      "\n",
      " data_id         0\n",
      "device_id       0\n",
      "voltage         0\n",
      "current         0\n",
      "power           0\n",
      "energy          0\n",
      "frequency       0\n",
      "power_factor    0\n",
      "created_at      0\n",
      "dtype: int64\n",
      "\n",
      "\n",
      "after:\n",
      " data_id         0\n",
      "device_id       0\n",
      "voltage         0\n",
      "current         0\n",
      "power           0\n",
      "energy          0\n",
      "frequency       0\n",
      "power_factor    0\n",
      "created_at      0\n",
      "dtype: int64\n"
     ]
    }
   ],
   "source": [
    "print(\"before:\\n\\n\", df.isnull().sum())\n",
    "# Fill missing values with median\n",
    "df['voltage'].fillna(df['voltage'].median())\n",
    "\n",
    "# Fill device_id with the latest id\n",
    "latest_id = device_ids['device_id'].iloc[-1]\n",
    "df['device_id'].fillna(latest_id)\n",
    "\n",
    "# Fill created_at with current date and time\n",
    "df['created_at'].fillna(pd.to_datetime('now'))\n",
    "\n",
    "print(\"\\n\\nafter:\\n\", df.isnull().sum())"
   ]
  },
  {
   "cell_type": "markdown",
   "metadata": {},
   "source": [
    "## Model Training"
   ]
  },
  {
   "cell_type": "markdown",
   "metadata": {},
   "source": [
    "### Split dataset for training and testing"
   ]
  },
  {
   "cell_type": "code",
   "execution_count": 28,
   "metadata": {},
   "outputs": [
    {
     "name": "stdout",
     "output_type": "stream",
     "text": [
      "data_id         22691\n",
      "device_id       22691\n",
      "voltage         22691\n",
      "current         22691\n",
      "power           22691\n",
      "energy          22691\n",
      "frequency       22691\n",
      "power_factor    22691\n",
      "created_at      22691\n",
      "dtype: int64\n"
     ]
    }
   ],
   "source": [
    "train_df, test_df = train_test_split(df, test_size=0.33, random_state=42)\n",
    "\n",
    "print(train_df.count())"
   ]
  },
  {
   "cell_type": "code",
   "execution_count": 29,
   "metadata": {},
   "outputs": [
    {
     "name": "stdout",
     "output_type": "stream",
     "text": [
      "Power Distribution in Training Data:\n",
      "count    2.269100e+04\n",
      "mean     9.222178e+03\n",
      "std      1.386926e+06\n",
      "min      6.000000e-01\n",
      "25%      6.800000e+00\n",
      "50%      1.610000e+01\n",
      "75%      1.740000e+01\n",
      "max      2.089200e+08\n",
      "Name: power, dtype: float64\n"
     ]
    }
   ],
   "source": [
    "# Inspect the distribution of the power feature\n",
    "print(\"Power Distribution in Training Data:\")\n",
    "print(train_df['power'].describe())"
   ]
  },
  {
   "cell_type": "markdown",
   "metadata": {},
   "source": [
    "### Unsupervised Learning - Isolation Forest"
   ]
  },
  {
   "cell_type": "markdown",
   "metadata": {},
   "source": [
    "### Train and predict "
   ]
  },
  {
   "cell_type": "code",
   "execution_count": 30,
   "metadata": {},
   "outputs": [
    {
     "name": "stdout",
     "output_type": "stream",
     "text": [
      "if_label\n",
      "normal     30444\n",
      "anomaly     3424\n",
      "Name: count, dtype: int64\n"
     ]
    }
   ],
   "source": [
    "def train_if():\n",
    "    for device_id in device_ids['device_id']:\n",
    "        features = ['voltage', 'current', 'power', 'energy', 'frequency', 'power_factor']\n",
    "        # Train model\n",
    "        if_model = IsolationForest(contamination=0.1, random_state=42)\n",
    "        if_model.fit(train_df[train_df['device_id'] == device_id][features])\n",
    "\n",
    "        # Predict Label\n",
    "        df.loc[df['device_id'] == device_id, 'if_label'] = if_model.predict(df[df['device_id'] == device_id][features])\n",
    "        \n",
    "        # Explicitly cast the 'if_label' column to string type right after prediction\n",
    "        df['if_label'] = df['if_label'].astype(str)\n",
    "        df.loc[df['device_id'] == device_id, 'if_label'] = np.where(df.loc[df['device_id'] == device_id, 'if_label'] == '1.0', 'normal', 'anomaly')\n",
    "\n",
    "        # print(df.head())\n",
    "        print(df.value_counts('if_label'))\n",
    "        # filename = f'if_model_{device_id.replace(\":\", \"-\")}.pkl'\n",
    "        # joblib.dump(if_model, filename)\n",
    "        \n",
    "train_if()"
   ]
  },
  {
   "cell_type": "markdown",
   "metadata": {},
   "source": [
    "### Show results for rows that have normal label"
   ]
  },
  {
   "cell_type": "code",
   "execution_count": 31,
   "metadata": {},
   "outputs": [
    {
     "name": "stdout",
     "output_type": "stream",
     "text": [
      "if_label\n",
      "normal     30444\n",
      "anomaly     3424\n",
      "Name: count, dtype: int64\n"
     ]
    }
   ],
   "source": [
    "for device_id in device_ids['device_id']:\n",
    "    print(df[df['device_id'] == device_id].value_counts('if_label'))\n"
   ]
  },
  {
   "cell_type": "code",
   "execution_count": 32,
   "metadata": {},
   "outputs": [
    {
     "name": "stdout",
     "output_type": "stream",
     "text": [
      "       data_id          device_id  voltage   current  power  energy  \\\n",
      "453     202276  D4:8A:FC:60:47:60    201.1  0.170000   20.8   1.309   \n",
      "454     202275  D4:8A:FC:60:47:60    201.1  0.171000   20.8   1.309   \n",
      "455     202274  D4:8A:FC:60:47:60    200.8  0.171000   20.8   1.309   \n",
      "456     202273  D4:8A:FC:60:47:60    200.6  0.171000   20.8   1.309   \n",
      "457     202272  D4:8A:FC:60:47:60    202.3  0.169000   20.7   1.309   \n",
      "...        ...                ...      ...       ...    ...     ...   \n",
      "33838     8188  D4:8A:FC:60:47:60    210.5  0.162001   20.1   1.033   \n",
      "33839     8187  D4:8A:FC:60:47:60    209.3  0.163000   20.1   1.033   \n",
      "33840     8186  D4:8A:FC:60:47:60    209.2  0.163000   20.1   1.033   \n",
      "33843     8183  D4:8A:FC:60:47:60    209.9  0.162001   20.1   1.033   \n",
      "33845     8181  D4:8A:FC:60:47:60    210.2  0.162001   20.1   1.033   \n",
      "\n",
      "       frequency  power_factor          created_at if_label  \n",
      "453         50.0          0.61 2024-07-27 19:39:09   normal  \n",
      "454         50.0          0.60 2024-07-27 19:39:04   normal  \n",
      "455         50.0          0.61 2024-07-27 19:38:59   normal  \n",
      "456         50.0          0.61 2024-07-27 19:38:54   normal  \n",
      "457         50.0          0.61 2024-07-27 19:38:49   normal  \n",
      "...          ...           ...                 ...      ...  \n",
      "33838       50.0          0.59 2024-05-19 23:06:30   normal  \n",
      "33839       50.0          0.59 2024-05-19 23:06:25   normal  \n",
      "33840       50.0          0.59 2024-05-19 23:06:20   normal  \n",
      "33843       50.0          0.59 2024-05-19 23:06:05   normal  \n",
      "33845       50.0          0.59 2024-05-19 23:05:55   normal  \n",
      "\n",
      "[5340 rows x 10 columns]\n"
     ]
    }
   ],
   "source": [
    "# testing apakah power di atas 20 watt ada yang normal\n",
    "for device_id in device_ids['device_id']:\n",
    "    print(df[(df['power'] > 20) & (df['device_id'] == device_id) & (df['if_label'] != 'anomaly')])\n",
    "\n"
   ]
  },
  {
   "cell_type": "markdown",
   "metadata": {},
   "source": [
    "### Show results for rows that have anomaly label"
   ]
  },
  {
   "cell_type": "code",
   "execution_count": 33,
   "metadata": {},
   "outputs": [
    {
     "name": "stdout",
     "output_type": "stream",
     "text": [
      "       data_id          device_id  voltage  current  power  energy  frequency  \\\n",
      "6362    180424  D4:8A:FC:60:47:60    185.9    0.149   17.1   1.203       49.9   \n",
      "10749   167816  D4:8A:FC:60:47:60    213.9    0.171   19.5   1.074       49.9   \n",
      "10751   167814  D4:8A:FC:60:47:60    214.2    0.173   19.6   1.074       49.9   \n",
      "12252   165234  D4:8A:FC:60:47:60    186.3    0.147   17.3   1.008       49.9   \n",
      "26549    68723  D4:8A:FC:60:47:60    215.5    0.147   19.7   0.602       49.9   \n",
      "28236    59065  D4:8A:FC:60:47:60    192.8    0.169   19.2   0.075       49.9   \n",
      "28239    59061  D4:8A:FC:60:47:60    193.6    0.148   17.4   0.075       49.9   \n",
      "28240    59060  D4:8A:FC:60:47:60    192.9    0.150   17.7   0.075       49.9   \n",
      "30179    48315  D4:8A:FC:60:47:60    193.6    0.147   17.6   0.029       49.9   \n",
      "31417    47076  D4:8A:FC:60:47:60    206.7    0.150   19.4   0.020       49.9   \n",
      "\n",
      "       power_factor          created_at if_label  \n",
      "6362           0.62 2024-07-22 17:19:31  anomaly  \n",
      "10749          0.53 2024-07-17 10:36:36  anomaly  \n",
      "10751          0.53 2024-07-17 10:36:26  anomaly  \n",
      "12252          0.63 2024-07-16 21:29:37  anomaly  \n",
      "26549          0.62 2024-07-01 12:35:16  anomaly  \n",
      "28236          0.59 2024-06-26 11:42:49  anomaly  \n",
      "28239          0.61 2024-06-26 11:42:29  anomaly  \n",
      "28240          0.61 2024-06-26 11:42:24  anomaly  \n",
      "30179          0.62 2024-06-24 12:52:51  anomaly  \n",
      "31417          0.63 2024-06-24 12:21:56  anomaly  \n"
     ]
    }
   ],
   "source": [
    "# testing apakah power di atas 17 di bawah 20 watt ada yang anomaly\n",
    "print(df[(df['if_label'] != 'normal') & (df['power'] > 17) & (df['power'] < 20)].head(10))\n"
   ]
  },
  {
   "cell_type": "markdown",
   "metadata": {},
   "source": [
    "## Supervised Learning - Random Forest"
   ]
  },
  {
   "cell_type": "code",
   "execution_count": 34,
   "metadata": {},
   "outputs": [
    {
     "name": "stdout",
     "output_type": "stream",
     "text": [
      "Label distribution for device D4:8A:FC:60:47:60:\n",
      "if_label\n",
      "normal     30444\n",
      "anomaly     3424\n",
      "Name: count, dtype: int64\n",
      "voltage: 0.08366157437000096\n",
      "current: 0.2771043105165553\n",
      "power: 0.23502673583682157\n",
      "energy: 0.07621940378962329\n",
      "frequency: 0.06309924351108527\n",
      "power_factor: 0.2648887319759136\n"
     ]
    },
    {
     "data": {
      "image/png": "[encoded data removed]",
      "text/plain": [
       "<Figure size 640x480 with 2 Axes>"
      ]
     },
     "metadata": {},
     "output_type": "display_data"
    },
    {
     "name": "stdout",
     "output_type": "stream",
     "text": [
      "╒══════════╤════════════╤════════════╤═════════════╤══════════╕\n",
      "│ Metric   │   Accuracy │   F1 Score │   Precision │   Recall │\n",
      "╞══════════╪════════════╪════════════╪═════════════╪══════════╡\n",
      "│ Value    │   0.996063 │   0.996054 │    0.996051 │ 0.996063 │\n",
      "╘══════════╧════════════╧════════════╧═════════════╧══════════╛\n"
     ]
    }
   ],
   "source": [
    "import tabulate as tabulate\n",
    "def train_rf():\n",
    "    for device_id in device_ids['device_id']:\n",
    "        features = ['voltage', 'current', 'power', 'energy', 'frequency', 'power_factor']\n",
    "        X = df[df['device_id'] == device_id][features]\n",
    "        y = df[df['device_id'] == device_id]['if_label']\n",
    "        label_counts = y.value_counts()\n",
    "        print(f\"Label distribution for device {device_id}:\")\n",
    "        print(label_counts)\n",
    "        # Ensure there is data to train on\n",
    "        if not X.empty and not y.empty:\n",
    "            rf_model = RandomForestClassifier(n_estimators=100, random_state=42)\n",
    "            # Splitting the dataset\n",
    "            X_train, X_test, y_train, y_test = train_test_split(X, y, test_size=0.33, random_state=42)\n",
    "\n",
    "            # Training a Random Forest Classifier\n",
    "            rf_model.fit(X_train, y_train)\n",
    "\n",
    "            # Getting feature importances\n",
    "            feature_importances = rf_model.feature_importances_\n",
    "\n",
    "            # Printing feature importances\n",
    "            for feature, importance in zip(X.columns, feature_importances):\n",
    "                print(f\"{feature}: {importance}\")\n",
    "\n",
    "            # Make predictions on the test set\n",
    "            y_pred = rf_model.predict(X_test)\n",
    "\n",
    "            # Generate the confusion matrix\n",
    "            conf_matrix = confusion_matrix(y_test, y_pred)\n",
    "\n",
    "            # Visualize the confusion matrix (Optional)\n",
    "            sns.heatmap(conf_matrix, annot=True, fmt='g', cmap='Blues')\n",
    "            plt.xlabel('Predicted labels')\n",
    "            plt.ylabel('True labels')\n",
    "            plt.title('Confusion Matrix')\n",
    "            plt.show()\n",
    "            \n",
    "            accuracy = accuracy_score(y_test, y_pred)\n",
    "            precision = precision_score(y_test, y_pred, average='weighted')\n",
    "            recall = recall_score(y_test, y_pred, average='weighted')\n",
    "            f1 = f1_score(y_test, y_pred, average='weighted')\n",
    "            table = [['Metric', 'Value'],\n",
    "                ['Accuracy', accuracy],\n",
    "                ['F1 Score', f1],\n",
    "                ['Precision', precision],\n",
    "                ['Recall', recall]]\n",
    "            # Transpose the table\n",
    "            transposed_table = list(zip(*table))\n",
    "            # Print the transposed table\n",
    "            print(tabulate.tabulate(transposed_table, headers='firstrow', tablefmt='fancy_grid'))\n",
    "            \n",
    "            # filename = f'rf_model_{device_id.replace(\":\", \"-\")}.pkl'\n",
    "            # joblib.dump(rf_model, filename)\n",
    "        else:\n",
    "            print(f\"No data available for device {device_id}, skipping...\")\n",
    "\n",
    "train_rf()"
   ]
  },
  {
   "cell_type": "code",
   "execution_count": null,
   "metadata": {},
   "outputs": [],
   "source": []
  }
 ],
 "metadata": {
  "kernelspec": {
   "display_name": "Python 3",
   "language": "python",
   "name": "python3"
  },
  "language_info": {
   "codemirror_mode": {
    "name": "ipython",
    "version": 3
   },
   "file_extension": ".py",
   "mimetype": "text/x-python",
   "name": "python",
   "nbconvert_exporter": "python",
   "pygments_lexer": "ipython3",
   "version": "3.11.5"
  }
 },
 "nbformat": 4,
 "nbformat_minor": 2
}
