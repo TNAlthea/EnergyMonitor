{
 "cells": [
  {
   "cell_type": "markdown",
   "metadata": {},
   "source": [
    "# Train, test, export model for Electricty monitor IDS "
   ]
  },
  {
   "cell_type": "markdown",
   "metadata": {},
   "source": [
    "Datasets is from personal usage documentation\n",
    "<br> <br>\n",
    "Clustered with unsupervised algorithm - Isolation Foreset\n",
    "<br>\n",
    "Feature classifying/learning with supervised algorithm - Random Forest"
   ]
  },
  {
   "cell_type": "markdown",
   "metadata": {},
   "source": [
    "## Config"
   ]
  },
  {
   "cell_type": "markdown",
   "metadata": {},
   "source": [
    "### Import"
   ]
  },
  {
   "cell_type": "code",
   "execution_count": 118,
   "metadata": {},
   "outputs": [],
   "source": [
    "# Import necessary libraries\n",
    "import pandas as pd\n",
    "import numpy as np\n",
    "import itertools\n",
    "import matplotlib.pyplot as plt\n",
    "import datetime\n",
    "import joblib\n",
    "\n",
    "from tabulate import tabulate\n",
    "\n",
    "from sqlalchemy import create_engine, Column, Integer, Float, String, DateTime\n",
    "from sqlalchemy.ext.declarative import declarative_base\n",
    "from sqlalchemy.orm import sessionmaker, declarative_base\n",
    "\n",
    "from sklearn.preprocessing import StandardScaler\n",
    "from sklearn.cluster import DBSCAN\n",
    "from sklearn.tree import DecisionTreeClassifier\n",
    "from sklearn.metrics import classification_report, confusion_matrix, recall_score, roc_auc_score, make_scorer, accuracy_score, precision_score, f1_score\n",
    "from sklearn.utils import resample  \n",
    "from sklearn.ensemble import IsolationForest, RandomForestClassifier\n",
    "from sklearn.neighbors import LocalOutlierFactor\n",
    "from sklearn.model_selection import GridSearchCV, train_test_split, cross_val_score\n",
    "from sklearn.svm import OneClassSVM\n",
    "from sklearn.neighbors import NearestNeighbors\n",
    "import matplotlib.pyplot as plt\n",
    "import seaborn as sns"
   ]
  },
  {
   "cell_type": "markdown",
   "metadata": {},
   "source": [
    "### database config"
   ]
  },
  {
   "cell_type": "code",
   "execution_count": 96,
   "metadata": {},
   "outputs": [],
   "source": [
    "# Configure database connection\n",
    "db_config = {\n",
    "    'host': 'localhost',\n",
    "    'user': 'root',\n",
    "    'password': '',\n",
    "    'database': 'db_esp32'\n",
    "}"
   ]
  },
  {
   "cell_type": "code",
   "execution_count": 97,
   "metadata": {},
   "outputs": [],
   "source": [
    "# Create engine and session\n",
    "engine = create_engine('mysql+mysqlconnector://root:@localhost/db_esp32')\n",
    "Session = sessionmaker(bind=engine)\n",
    "session = Session()\n",
    "\n",
    "# Create the Base class\n",
    "Base = declarative_base()\n",
    "\n",
    "# Define the ElectricityMonitor class\n",
    "class ElectricityMonitor(Base):\n",
    "    __tablename__ = 'electricity_monitor'  # Use your actual table name here\n",
    "    data_id = Column(Integer, primary_key=True)\n",
    "    device_id = Column(String(255))\n",
    "    voltage = Column(Float)\n",
    "    current = Column(Float)\n",
    "    power = Column(Float)\n",
    "    energy = Column(Float)\n",
    "    frequency = Column(Float)\n",
    "    power_factor = Column(Float)\n",
    "    created_at = Column(DateTime)"
   ]
  },
  {
   "cell_type": "code",
   "execution_count": 98,
   "metadata": {},
   "outputs": [
    {
     "name": "stdout",
     "output_type": "stream",
     "text": [
      "data_id         31186\n",
      "device_id       31186\n",
      "voltage         31186\n",
      "current         31186\n",
      "power           31186\n",
      "energy          31186\n",
      "frequency       31186\n",
      "power_factor    31186\n",
      "created_at      31186\n",
      "dtype: int64\n"
     ]
    }
   ],
   "source": [
    "# Fetch data from the database with only power > 0 and order by created_at in descending order\n",
    "def fetch_data():\n",
    "    query = session.query(ElectricityMonitor).where(ElectricityMonitor.power > 0.5).order_by(ElectricityMonitor.created_at.desc())\n",
    "    df = pd.read_sql(query.statement, query.session.bind)\n",
    "    return df\n",
    "\n",
    "def get_deviceId():\n",
    "    query = session.query(ElectricityMonitor.device_id).distinct()\n",
    "    device_ids = pd.read_sql(query.statement, query.session.bind)\n",
    "    return device_ids\n",
    "\n",
    "df = fetch_data()\n",
    "device_ids = get_deviceId()\n",
    "\n",
    "print(df.count())"
   ]
  },
  {
   "cell_type": "markdown",
   "metadata": {},
   "source": [
    "## Pre-processing"
   ]
  },
  {
   "cell_type": "markdown",
   "metadata": {},
   "source": [
    "### Load the datasets"
   ]
  },
  {
   "cell_type": "code",
   "execution_count": 99,
   "metadata": {},
   "outputs": [
    {
     "name": "stdout",
     "output_type": "stream",
     "text": [
      "Count: \n",
      " data_id         31186\n",
      "device_id       31186\n",
      "voltage         31186\n",
      "current         31186\n",
      "power           31186\n",
      "energy          31186\n",
      "frequency       31186\n",
      "power_factor    31186\n",
      "created_at      31186\n",
      "dtype: int64\n",
      "\n",
      "datasets: \n",
      "    data_id          device_id  voltage  current  power  energy  frequency  \\\n",
      "0   193867  D4:8A:FC:60:47:60    198.4      0.0    0.9   1.258       49.9   \n",
      "1   193866  D4:8A:FC:60:47:60    199.0      0.0    0.8   1.258       50.0   \n",
      "2   193865  D4:8A:FC:60:47:60    200.3      0.0    1.0   1.258       49.9   \n",
      "3   193864  D4:8A:FC:60:47:60    197.1      0.0    0.8   1.258       49.9   \n",
      "4   193863  D4:8A:FC:60:47:60    194.9      0.0    0.9   1.258       49.9   \n",
      "\n",
      "   power_factor          created_at  \n",
      "0           1.0 2024-07-24 14:20:48  \n",
      "1           1.0 2024-07-24 14:20:43  \n",
      "2           1.0 2024-07-24 14:20:38  \n",
      "3           1.0 2024-07-24 14:20:33  \n",
      "4           1.0 2024-07-24 14:20:28  \n",
      "\n",
      "\n",
      "device_ids: \n",
      "            device_id\n",
      "0  D4:8A:FC:60:47:60\n"
     ]
    }
   ],
   "source": [
    "print('Count: \\n', df.count())\n",
    "print('\\ndatasets: \\n', df.head())\n",
    "print('\\n')\n",
    "print('device_ids: \\n', device_ids)"
   ]
  },
  {
   "cell_type": "markdown",
   "metadata": {},
   "source": [
    "#### Handling missing values"
   ]
  },
  {
   "cell_type": "code",
   "execution_count": 100,
   "metadata": {},
   "outputs": [
    {
     "name": "stdout",
     "output_type": "stream",
     "text": [
      "before:\n",
      "\n",
      " data_id         0\n",
      "device_id       0\n",
      "voltage         0\n",
      "current         0\n",
      "power           0\n",
      "energy          0\n",
      "frequency       0\n",
      "power_factor    0\n",
      "created_at      0\n",
      "dtype: int64\n",
      "\n",
      "\n",
      "after:\n",
      " data_id         0\n",
      "device_id       0\n",
      "voltage         0\n",
      "current         0\n",
      "power           0\n",
      "energy          0\n",
      "frequency       0\n",
      "power_factor    0\n",
      "created_at      0\n",
      "dtype: int64\n"
     ]
    }
   ],
   "source": [
    "print(\"before:\\n\\n\", df.isnull().sum())\n",
    "# Fill missing values with median\n",
    "df['voltage'].fillna(df['voltage'].median())\n",
    "\n",
    "# Fill device_id with the latest id\n",
    "latest_id = device_ids['device_id'].iloc[-1]\n",
    "df['device_id'].fillna(latest_id)\n",
    "\n",
    "# Fill created_at with current date and time\n",
    "df['created_at'].fillna(pd.to_datetime('now'))\n",
    "\n",
    "print(\"\\n\\nafter:\\n\", df.isnull().sum())"
   ]
  },
  {
   "cell_type": "markdown",
   "metadata": {},
   "source": [
    "## Model Training"
   ]
  },
  {
   "cell_type": "markdown",
   "metadata": {},
   "source": [
    "### Split dataset for training and testing"
   ]
  },
  {
   "cell_type": "code",
   "execution_count": 101,
   "metadata": {},
   "outputs": [
    {
     "name": "stdout",
     "output_type": "stream",
     "text": [
      "data_id         20894\n",
      "device_id       20894\n",
      "voltage         20894\n",
      "current         20894\n",
      "power           20894\n",
      "energy          20894\n",
      "frequency       20894\n",
      "power_factor    20894\n",
      "created_at      20894\n",
      "dtype: int64\n"
     ]
    }
   ],
   "source": [
    "train_df, test_df = train_test_split(df, test_size=0.33, random_state=42)\n",
    "\n",
    "print(train_df.count())"
   ]
  },
  {
   "cell_type": "code",
   "execution_count": 102,
   "metadata": {},
   "outputs": [
    {
     "name": "stdout",
     "output_type": "stream",
     "text": [
      "Power Distribution in Training Data:\n",
      "count    20894.000000\n",
      "mean        15.464990\n",
      "std         17.399168\n",
      "min          0.600000\n",
      "25%          6.900000\n",
      "50%         16.300000\n",
      "75%         17.400000\n",
      "max       1000.100000\n",
      "Name: power, dtype: float64\n"
     ]
    }
   ],
   "source": [
    "# Inspect the distribution of the power feature\n",
    "print(\"Power Distribution in Training Data:\")\n",
    "print(train_df['power'].describe())"
   ]
  },
  {
   "cell_type": "markdown",
   "metadata": {},
   "source": [
    "### Unsupervised Learning - Isolation Forest"
   ]
  },
  {
   "cell_type": "markdown",
   "metadata": {},
   "source": [
    "### Train and predict "
   ]
  },
  {
   "cell_type": "code",
   "execution_count": 103,
   "metadata": {},
   "outputs": [
    {
     "name": "stdout",
     "output_type": "stream",
     "text": [
      "if_label\n",
      "normal     28086\n",
      "anomaly     3100\n",
      "Name: count, dtype: int64\n"
     ]
    }
   ],
   "source": [
    "def train_if():\n",
    "    for device_id in device_ids['device_id']:\n",
    "        features = ['voltage', 'current', 'power', 'energy', 'frequency', 'power_factor']\n",
    "        # Train model\n",
    "        if_model = IsolationForest(contamination=0.1, random_state=42)\n",
    "        if_model.fit(train_df[train_df['device_id'] == device_id][features])\n",
    "\n",
    "        # Predict Label\n",
    "        df.loc[df['device_id'] == device_id, 'if_label'] = if_model.predict(df[df['device_id'] == device_id][features])\n",
    "        \n",
    "        # Explicitly cast the 'if_label' column to string type right after prediction\n",
    "        df['if_label'] = df['if_label'].astype(str)\n",
    "        df.loc[df['device_id'] == device_id, 'if_label'] = np.where(df.loc[df['device_id'] == device_id, 'if_label'] == '1.0', 'normal', 'anomaly')\n",
    "\n",
    "        # print(df.head())\n",
    "        print(df.value_counts('if_label'))\n",
    "        # filename = f'if_model_{device_id.replace(\":\", \"-\")}.pkl'\n",
    "        # joblib.dump(if_model, filename)\n",
    "        \n",
    "train_if()"
   ]
  },
  {
   "cell_type": "markdown",
   "metadata": {},
   "source": [
    "### Show results for rows that have normal label"
   ]
  },
  {
   "cell_type": "code",
   "execution_count": 104,
   "metadata": {},
   "outputs": [
    {
     "name": "stdout",
     "output_type": "stream",
     "text": [
      "if_label\n",
      "normal     28086\n",
      "anomaly     3100\n",
      "Name: count, dtype: int64\n"
     ]
    }
   ],
   "source": [
    "for device_id in device_ids['device_id']:\n",
    "    print(df[df['device_id'] == device_id].value_counts('if_label'))\n"
   ]
  },
  {
   "cell_type": "code",
   "execution_count": 105,
   "metadata": {},
   "outputs": [
    {
     "name": "stdout",
     "output_type": "stream",
     "text": [
      "       data_id          device_id  voltage   current  power  energy  \\\n",
      "984     192880  D4:8A:FC:60:47:60    200.6  0.163000   20.8   1.246   \n",
      "985     192879  D4:8A:FC:60:47:60    200.0  0.160000   20.6   1.246   \n",
      "997     192866  D4:8A:FC:60:47:60    199.7  0.159000   20.4   1.245   \n",
      "998     192865  D4:8A:FC:60:47:60    199.6  0.161000   20.5   1.245   \n",
      "999     192864  D4:8A:FC:60:47:60    200.7  0.158000   20.3   1.245   \n",
      "...        ...                ...      ...       ...    ...     ...   \n",
      "31156     8188  D4:8A:FC:60:47:60    210.5  0.162001   20.1   1.033   \n",
      "31157     8187  D4:8A:FC:60:47:60    209.3  0.163000   20.1   1.033   \n",
      "31158     8186  D4:8A:FC:60:47:60    209.2  0.163000   20.1   1.033   \n",
      "31161     8183  D4:8A:FC:60:47:60    209.9  0.162001   20.1   1.033   \n",
      "31163     8181  D4:8A:FC:60:47:60    210.2  0.162001   20.1   1.033   \n",
      "\n",
      "       frequency  power_factor          created_at if_label  \n",
      "984         50.0          0.64 2024-07-24 12:57:06   normal  \n",
      "985         50.0          0.64 2024-07-24 12:57:01   normal  \n",
      "997         50.0          0.64 2024-07-24 12:55:27   normal  \n",
      "998         50.0          0.64 2024-07-24 12:55:17   normal  \n",
      "999         50.0          0.64 2024-07-24 12:55:12   normal  \n",
      "...          ...           ...                 ...      ...  \n",
      "31156       50.0          0.59 2024-05-19 23:06:30   normal  \n",
      "31157       50.0          0.59 2024-05-19 23:06:25   normal  \n",
      "31158       50.0          0.59 2024-05-19 23:06:20   normal  \n",
      "31161       50.0          0.59 2024-05-19 23:06:05   normal  \n",
      "31163       50.0          0.59 2024-05-19 23:05:55   normal  \n",
      "\n",
      "[5112 rows x 10 columns]\n"
     ]
    }
   ],
   "source": [
    "# testing apakah power di atas 20 watt ada yang normal\n",
    "for device_id in device_ids['device_id']:\n",
    "    print(df[(df['power'] > 20) & (df['device_id'] == device_id) & (df['if_label'] != 'anomaly')])\n",
    "\n"
   ]
  },
  {
   "cell_type": "markdown",
   "metadata": {},
   "source": [
    "### Show results for rows that have anomaly label"
   ]
  },
  {
   "cell_type": "code",
   "execution_count": 106,
   "metadata": {},
   "outputs": [
    {
     "name": "stdout",
     "output_type": "stream",
     "text": [
      "       data_id          device_id  voltage  current  power  energy  frequency  \\\n",
      "8059    167824  D4:8A:FC:60:47:60    212.4    0.170   19.0   1.074       49.9   \n",
      "8065    167818  D4:8A:FC:60:47:60    212.1    0.171   19.3   1.074       49.9   \n",
      "8066    167817  D4:8A:FC:60:47:60    212.2    0.171   19.3   1.074       49.9   \n",
      "8067    167816  D4:8A:FC:60:47:60    213.9    0.171   19.5   1.074       49.9   \n",
      "8068    167815  D4:8A:FC:60:47:60    214.1    0.171   19.6   1.074       49.9   \n",
      "8069    167814  D4:8A:FC:60:47:60    214.2    0.173   19.6   1.074       49.9   \n",
      "25554    59065  D4:8A:FC:60:47:60    192.8    0.169   19.2   0.075       49.9   \n",
      "29986    27778  D4:8A:FC:60:47:60    192.3    0.174   19.9   1.311       49.9   \n",
      "\n",
      "       power_factor          created_at if_label  \n",
      "8059           0.53 2024-07-17 10:37:16  anomaly  \n",
      "8065           0.53 2024-07-17 10:36:46  anomaly  \n",
      "8066           0.53 2024-07-17 10:36:41  anomaly  \n",
      "8067           0.53 2024-07-17 10:36:36  anomaly  \n",
      "8068           0.54 2024-07-17 10:36:31  anomaly  \n",
      "8069           0.53 2024-07-17 10:36:26  anomaly  \n",
      "25554          0.59 2024-06-26 11:42:49  anomaly  \n",
      "29986          0.59 2024-06-06 21:21:04  anomaly  \n"
     ]
    }
   ],
   "source": [
    "# testing apakah power di atas 17 di bawah 20 watt ada yang anomaly\n",
    "print(df[(df['if_label'] != 'normal') & (df['power'] > 17) & (df['power'] < 20)].head(10))\n"
   ]
  },
  {
   "cell_type": "markdown",
   "metadata": {},
   "source": [
    "## Supervised Learning - Random Forest"
   ]
  },
  {
   "cell_type": "code",
   "execution_count": 119,
   "metadata": {},
   "outputs": [
    {
     "name": "stdout",
     "output_type": "stream",
     "text": [
      "voltage: 0.09418679954844075\n",
      "current: 0.25871624983165964\n",
      "power: 0.24000587735322\n",
      "energy: 0.05408079975461127\n",
      "frequency: 0.0694685098621992\n",
      "power_factor: 0.2835417636498691\n"
     ]
    },
    {
     "data": {
      "image/png": "[encoded data removed]",
      "text/plain": [
       "<Figure size 640x480 with 2 Axes>"
      ]
     },
     "metadata": {},
     "output_type": "display_data"
    },
    {
     "name": "stdout",
     "output_type": "stream",
     "text": [
      "╒══════════╤════════════╤════════════╤═════════════╤══════════╕\n",
      "│ Metric   │   Accuracy │   F1 Score │   Precision │   Recall │\n",
      "╞══════════╪════════════╪════════════╪═════════════╪══════════╡\n",
      "│ Value    │   0.996211 │   0.996198 │    0.996197 │ 0.996211 │\n",
      "╘══════════╧════════════╧════════════╧═════════════╧══════════╛\n"
     ]
    }
   ],
   "source": [
    "import tabulate as tabulate\n",
    "def train_rf():\n",
    "    for device_id in device_ids['device_id']:\n",
    "        features = ['voltage', 'current', 'power', 'energy', 'frequency', 'power_factor']\n",
    "        X = df[df['device_id'] == device_id][features]\n",
    "        y = df[df['device_id'] == device_id]['if_label']\n",
    "        \n",
    "        # Ensure there is data to train on\n",
    "        if not X.empty and not y.empty:\n",
    "            rf_model = RandomForestClassifier(n_estimators=100, random_state=42)\n",
    "            # Splitting the dataset\n",
    "            X_train, X_test, y_train, y_test = train_test_split(X, y, test_size=0.33, random_state=42)\n",
    "\n",
    "            # Training a Random Forest Classifier\n",
    "            rf_model.fit(X_train, y_train)\n",
    "\n",
    "            # Getting feature importances\n",
    "            feature_importances = rf_model.feature_importances_\n",
    "\n",
    "            # Printing feature importances\n",
    "            for feature, importance in zip(X.columns, feature_importances):\n",
    "                print(f\"{feature}: {importance}\")\n",
    "\n",
    "            # Make predictions on the test set\n",
    "            y_pred = rf_model.predict(X_test)\n",
    "\n",
    "            # Generate the confusion matrix\n",
    "            conf_matrix = confusion_matrix(y_test, y_pred)\n",
    "\n",
    "            # Visualize the confusion matrix (Optional)\n",
    "            sns.heatmap(conf_matrix, annot=True, fmt='g', cmap='Blues')\n",
    "            plt.xlabel('Predicted labels')\n",
    "            plt.ylabel('True labels')\n",
    "            plt.title('Confusion Matrix')\n",
    "            plt.show()\n",
    "            \n",
    "            accuracy = accuracy_score(y_test, y_pred)\n",
    "            precision = precision_score(y_test, y_pred, average='weighted')\n",
    "            recall = recall_score(y_test, y_pred, average='weighted')\n",
    "            f1 = f1_score(y_test, y_pred, average='weighted')\n",
    "            table = [['Metric', 'Value'],\n",
    "                ['Accuracy', accuracy],\n",
    "                ['F1 Score', f1],\n",
    "                ['Precision', precision],\n",
    "                ['Recall', recall]]\n",
    "            # Transpose the table\n",
    "            transposed_table = list(zip(*table))\n",
    "            # Print the transposed table\n",
    "            print(tabulate.tabulate(transposed_table, headers='firstrow', tablefmt='fancy_grid'))\n",
    "            \n",
    "            # filename = f'rf_model_{device_id.replace(\":\", \"-\")}.pkl'\n",
    "            # joblib.dump(rf_model, filename)\n",
    "        else:\n",
    "            print(f\"No data available for device {device_id}, skipping...\")\n",
    "\n",
    "train_rf()"
   ]
  }
 ],
 "metadata": {
  "kernelspec": {
   "display_name": "Python 3",
   "language": "python",
   "name": "python3"
  },
  "language_info": {
   "codemirror_mode": {
    "name": "ipython",
    "version": 3
   },
   "file_extension": ".py",
   "mimetype": "text/x-python",
   "name": "python",
   "nbconvert_exporter": "python",
   "pygments_lexer": "ipython3",
   "version": "3.11.5"
  }
 },
 "nbformat": 4,
 "nbformat_minor": 2
}
