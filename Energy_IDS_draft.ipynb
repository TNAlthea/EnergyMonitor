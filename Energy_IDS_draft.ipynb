{
 "cells": [
  {
   "cell_type": "markdown",
   "metadata": {},
   "source": [
    "# Testing Unsupervised + Supervised for Electricity Data"
   ]
  },
  {
   "cell_type": "code",
   "execution_count": 91,
   "metadata": {},
   "outputs": [],
   "source": [
    "# Import necessary libraries\n",
    "import pandas as pd\n",
    "import numpy as np\n",
    "import itertools\n",
    "import matplotlib.pyplot as plt\n",
    "import datetime\n",
    "\n",
    "import mysql.connector\n",
    "from sklearn.preprocessing import StandardScaler\n",
    "from sklearn.cluster import DBSCAN\n",
    "from sklearn.tree import DecisionTreeClassifier\n",
    "from sklearn.metrics import classification_report, confusion_matrix, recall_score, roc_auc_score, make_scorer, accuracy_score, precision_score, f1_score\n",
    "from sklearn.utils import resample\n",
    "from sklearn.ensemble import IsolationForest, RandomForestClassifier\n",
    "from sklearn.neighbors import LocalOutlierFactor\n",
    "from sklearn.model_selection import GridSearchCV, train_test_split\n",
    "from sklearn.svm import OneClassSVM\n",
    "from sklearn.neighbors import NearestNeighbors\n",
    "import matplotlib.pyplot as plt\n",
    "import seaborn as sns"
   ]
  },
  {
   "cell_type": "markdown",
   "metadata": {},
   "source": [
    "## Datasets"
   ]
  },
  {
   "cell_type": "code",
   "execution_count": 92,
   "metadata": {},
   "outputs": [],
   "source": [
    "# Configure database connection\n",
    "db_config = {\n",
    "    'host': 'localhost',\n",
    "    'user': 'root',\n",
    "    'password': '',\n",
    "    'database': 'db_esp32'\n",
    "}"
   ]
  },
  {
   "cell_type": "code",
   "execution_count": 93,
   "metadata": {},
   "outputs": [],
   "source": [
    "# Fetch data from the database with only power > 0 and order by created_at in descending order\n",
    "def fetch_data():\n",
    "    conn = mysql.connector.connect(**db_config)\n",
    "    query = f\"SELECT data_id, voltage, current, power, energy, power_factor, frequency FROM electricity_monitor WHERE power > 0 ORDER BY created_at DESC\"\n",
    "    df = pd.read_sql(query, conn)\n",
    "    conn.close()\n",
    "    return df\n",
    "\n",
    "# Resample the data to 10% of the original dataset\n",
    "def sampled_data():\n",
    "    df_data = fetch_data()\n",
    "    df_sampled = resample(df_data, replace=False, n_samples=int(len(df_data) * 0.2), random_state=42)\n",
    "\n",
    "    return df_sampled"
   ]
  },
  {
   "cell_type": "code",
   "execution_count": 94,
   "metadata": {},
   "outputs": [],
   "source": [
    "def plot_confusion_matrix(cm, title, classes=['abnormal', 'normal'],\n",
    "                          cmap=plt.cm.Blues, save=False, saveas=\"MyFigure.png\"):\n",
    "    \n",
    "    # print Confusion matrix with blue gradient colours\n",
    "    \n",
    "    cm = cm.astype('float') / cm.sum(axis=1)[:, np.newaxis]\n",
    "    \n",
    "    plt.imshow(cm, interpolation='nearest', cmap=cmap)\n",
    "    plt.title(title)\n",
    "    plt.colorbar()\n",
    "    tick_marks = np.arange(len(classes))\n",
    "    plt.xticks(tick_marks, classes, rotation=90)\n",
    "    plt.yticks(tick_marks, classes)\n",
    "\n",
    "    fmt = '.1%'\n",
    "    thresh = cm.max() / 2.\n",
    "    for i, j in itertools.product(range(cm.shape[0]), range(cm.shape[1])):\n",
    "        plt.text(j, i, format(cm[i, j], fmt),\n",
    "                 horizontalalignment=\"center\",\n",
    "                 color=\"white\" if cm[i, j] > thresh else \"black\")\n",
    "\n",
    "    plt.tight_layout()\n",
    "    plt.ylabel('True label')\n",
    "    plt.xlabel('Predicted label')\n",
    "    \n",
    "    if save:\n",
    "        plt.savefig(saveas, dpi=100)"
   ]
  },
  {
   "cell_type": "code",
   "execution_count": 95,
   "metadata": {},
   "outputs": [],
   "source": [
    "def plot_gridsearch_cv(results, estimator, x_min, x_max, y_min, y_max,save=False, saveas=\"MyFigure.png\"):\n",
    "    \n",
    "    # print GridSearch cross-validation for parameters\n",
    "    \n",
    "    plt.figure(figsize=(10,8))\n",
    "    plt.title(\"GridSearchCV for \"+estimator, fontsize=24)\n",
    "\n",
    "    plt.xlabel(estimator)\n",
    "    plt.ylabel(\"Score\")\n",
    "    plt.grid()\n",
    "\n",
    "    ax = plt.axes()\n",
    "    ax.set_xlim(x_min, x_max)\n",
    "    ax.set_ylim(y_min, y_max)\n",
    "\n",
    "    pad = 0.005\n",
    "    X_axis = np.array(results[\"param_\"+estimator].data, dtype=float)\n",
    "\n",
    "    for scorer, color in zip(sorted(scoring), ['b', 'k']):\n",
    "        for sample, style in (('train', '--'), ('test', '-')):\n",
    "            sample_score_mean = results['mean_%s_%s' % (sample, scorer)]\n",
    "            sample_score_std = results['std_%s_%s' % (sample, scorer)]\n",
    "            ax.fill_between(X_axis, sample_score_mean - sample_score_std,\n",
    "                        sample_score_mean + sample_score_std,\n",
    "                        alpha=0.1 if sample == 'test' else 0, color=color)\n",
    "            ax.plot(X_axis, sample_score_mean, style, color=color,\n",
    "                alpha=1 if sample == 'test' else 0.7,\n",
    "                label=\"%s (%s)\" % (scorer, sample))\n",
    "\n",
    "        best_index = np.nonzero(results['rank_test_%s' % scorer] == 1)[0][0]\n",
    "        best_score = results['mean_test_%s' % scorer][best_index]\n",
    "\n",
    "        # Plot a dotted vertical line at the best score for that scorer marked by x\n",
    "        ax.plot([X_axis[best_index], ] * 2, [0, best_score],\n",
    "            linestyle='-.', color=color, marker='x', markeredgewidth=3, ms=8)\n",
    "\n",
    "        # Annotate the best score for that scorer\n",
    "        ax.annotate(\"%0.2f\" % best_score,\n",
    "                (X_axis[best_index], best_score+pad))\n",
    "\n",
    "    plt.legend(loc=\"best\")\n",
    "    plt.grid('off')\n",
    "    plt.tight_layout()\n",
    "    if save:\n",
    "        plt.savefig(saveas, dpi=100)\n",
    "        \n",
    "    plt.show()"
   ]
  },
  {
   "cell_type": "markdown",
   "metadata": {},
   "source": [
    "## Pre-processing"
   ]
  },
  {
   "cell_type": "markdown",
   "metadata": {},
   "source": [
    "### Load Datasets"
   ]
  },
  {
   "cell_type": "code",
   "execution_count": 96,
   "metadata": {},
   "outputs": [
    {
     "name": "stderr",
     "output_type": "stream",
     "text": [
      "C:\\Users\\Sabian\\AppData\\Local\\Temp\\ipykernel_20028\\1266917687.py:5: UserWarning: pandas only supports SQLAlchemy connectable (engine/connection) or database string URI or sqlite3 DBAPI2 connection. Other DBAPI2 objects are not tested. Please consider using SQLAlchemy.\n",
      "  df = pd.read_sql(query, conn)\n"
     ]
    },
    {
     "name": "stdout",
     "output_type": "stream",
     "text": [
      "   data_id  voltage  current  power  energy  power_factor  frequency\n",
      "0   117929    209.6      0.0    0.4   0.792           1.0       49.9\n",
      "1   117926    210.0      0.0    0.4   0.792           1.0       49.9\n",
      "2   117923    209.8      0.0    0.4   0.792           1.0       50.0\n",
      "3   117922    209.4      0.0    0.4   0.792           1.0       49.9\n",
      "4   117914    209.7      0.0    0.4   0.792           1.0       50.0\n"
     ]
    }
   ],
   "source": [
    "df = fetch_data()\n",
    "df_sampled = sampled_data()\n",
    "\n",
    "print(df.head())"
   ]
  },
  {
   "cell_type": "markdown",
   "metadata": {},
   "source": [
    "#### Convert datetime into numeric"
   ]
  },
  {
   "cell_type": "code",
   "execution_count": 97,
   "metadata": {},
   "outputs": [],
   "source": [
    "# df['created_at'] = df['created_at'].astype('int64') // 10**9\n",
    "\n"
   ]
  },
  {
   "cell_type": "markdown",
   "metadata": {},
   "source": [
    "#### Handling missing values"
   ]
  },
  {
   "cell_type": "code",
   "execution_count": 98,
   "metadata": {},
   "outputs": [],
   "source": [
    "# print(df.isnull().sum())\n",
    "# df.fillna(df.median(), inplace=True)"
   ]
  },
  {
   "cell_type": "markdown",
   "metadata": {},
   "source": [
    "#### Calculate new features"
   ]
  },
  {
   "cell_type": "code",
   "execution_count": 99,
   "metadata": {},
   "outputs": [],
   "source": [
    "# Calculate features\n",
    "def calculate_features(df):\n",
    "    df['mean_consumption'] = df['energy'].mean()\n",
    "    df['std_deviation'] = df['energy'].std()\n",
    "    df['peak_consumption'] = df['energy'].max()\n",
    "    return df[['mean_consumption', 'std_deviation', 'peak_consumption', 'created_at']].iloc[-1]\n"
   ]
  },
  {
   "cell_type": "code",
   "execution_count": 100,
   "metadata": {},
   "outputs": [],
   "source": [
    "# new_features = calculate_features(df)"
   ]
  },
  {
   "cell_type": "markdown",
   "metadata": {},
   "source": [
    "## Unsupervised\n"
   ]
  },
  {
   "cell_type": "code",
   "execution_count": 101,
   "metadata": {},
   "outputs": [],
   "source": [
    "train_df, test_df = train_test_split(df, test_size=0.33, random_state=42)"
   ]
  },
  {
   "cell_type": "markdown",
   "metadata": {},
   "source": [
    "#### IF"
   ]
  },
  {
   "cell_type": "code",
   "execution_count": 102,
   "metadata": {},
   "outputs": [],
   "source": [
    "clf_if = IsolationForest(n_estimators=100, contamination=0.1, random_state=42)\n",
    "df['if_labels'] = clf_if.fit_predict(df)"
   ]
  },
  {
   "cell_type": "markdown",
   "metadata": {},
   "source": [
    "#### OCSVM"
   ]
  },
  {
   "cell_type": "code",
   "execution_count": 103,
   "metadata": {},
   "outputs": [],
   "source": [
    "# ocsvm = OneClassSVM(nu=0.1, gamma='auto')\n",
    "# df['ocsvm_labels'] = ocsvm.fit_predict(df)  \n"
   ]
  },
  {
   "cell_type": "markdown",
   "metadata": {},
   "source": [
    "#### DBSCAN"
   ]
  },
  {
   "cell_type": "code",
   "execution_count": 104,
   "metadata": {},
   "outputs": [],
   "source": [
    "# def label_data_with_dbscan(df, eps=0.2, min_samples=25):\n",
    "#     features = ['voltage', 'current', 'power', 'energy', 'frequency', 'power_factor']\n",
    "    \n",
    "#     clustering = DBSCAN(eps=eps, min_samples=min_samples).fit(df[features])\n",
    "#     df['dbscan_labels'] = clustering.labels_\n",
    "#     return df\n",
    "\n",
    "# df_sample = df.sample(n=2000, random_state=42)\n",
    "\n",
    "# label_data_with_dbscan(df_sample)\n",
    "# print(\"DBSCAN Labels Distribution:\")\n",
    "\n",
    "# # Visualize DBSCAN results\n",
    "# sns.scatterplot(x='voltage', y='current', hue='dbscan_labels', data=df_sample)\n",
    "# plt.title('DBSCAN Clustering')\n",
    "# plt.show()"
   ]
  },
  {
   "cell_type": "markdown",
   "metadata": {},
   "source": [
    "#### Cluster levels `normal` and `anomaly`"
   ]
  },
  {
   "cell_type": "code",
   "execution_count": 105,
   "metadata": {},
   "outputs": [],
   "source": [
    "df['if_labels'] = np.where(df['if_labels'] == 1, 'normal', 'anomaly')\n",
    "# df['ocsvm_labels'] = np.where(df['ocsvm_labels'] == 1, 'normal', 'anomaly')\n",
    "# # For DBSCAN, label -1 is considered an anomaly\n",
    "# df['dbscan_labels'] = np.where(df['dbscan_labels'] == -1, 'anomaly', 'normal')"
   ]
  },
  {
   "cell_type": "code",
   "execution_count": 106,
   "metadata": {},
   "outputs": [
    {
     "name": "stdout",
     "output_type": "stream",
     "text": [
      "   data_id  voltage  current  power  energy  power_factor  frequency if_labels\n",
      "0   117929    209.6      0.0    0.4   0.792           1.0       49.9    normal\n",
      "1   117926    210.0      0.0    0.4   0.792           1.0       49.9    normal\n",
      "2   117923    209.8      0.0    0.4   0.792           1.0       50.0    normal\n",
      "3   117922    209.4      0.0    0.4   0.792           1.0       49.9    normal\n",
      "4   117914    209.7      0.0    0.4   0.792           1.0       50.0    normal\n"
     ]
    }
   ],
   "source": [
    "print(df.head())"
   ]
  },
  {
   "cell_type": "code",
   "execution_count": 107,
   "metadata": {},
   "outputs": [
    {
     "name": "stdout",
     "output_type": "stream",
     "text": [
      "     data_id  voltage  current  power  energy  power_factor  frequency  \\\n",
      "225   117311    209.5    0.097   11.5   0.792          0.57       50.0   \n",
      "226   117310    208.3    0.099   11.7   0.792          0.57       50.0   \n",
      "227   117309    208.0    0.099   11.6   0.792          0.56       50.0   \n",
      "228   117308    208.2    0.099   11.7   0.792          0.57       50.0   \n",
      "229   117307    207.3    0.100   11.7   0.792          0.56       50.0   \n",
      "\n",
      "    if_labels  \n",
      "225    normal  \n",
      "226    normal  \n",
      "227    normal  \n",
      "228    normal  \n",
      "229    normal  \n"
     ]
    }
   ],
   "source": [
    "filtered_df = df[df['power'] > 10]\n",
    "\n",
    "print(filtered_df.head())"
   ]
  },
  {
   "cell_type": "markdown",
   "metadata": {},
   "source": [
    "## Supervised"
   ]
  },
  {
   "cell_type": "markdown",
   "metadata": {},
   "source": [
    "### RF to IF"
   ]
  },
  {
   "cell_type": "code",
   "execution_count": 108,
   "metadata": {},
   "outputs": [
    {
     "name": "stdout",
     "output_type": "stream",
     "text": [
      "voltage: 0.13902051655801423\n",
      "current: 0.21932186091394132\n",
      "power: 0.20376408513990657\n",
      "energy: 0.2320793987828605\n",
      "frequency: 0.09313952090656617\n",
      "power_factor: 0.11267461769871129\n"
     ]
    },
    {
     "data": {
      "image/png": "[encoded data removed]",
      "text/plain": [
       "<Figure size 640x480 with 2 Axes>"
      ]
     },
     "metadata": {},
     "output_type": "display_data"
    }
   ],
   "source": [
    "# 'anomaly' is 1 and 'normal' is 0\n",
    "df['target'] = df['if_labels'].apply(lambda x: 1 if x == 'anomaly' else 0)\n",
    "\n",
    "# Selecting features for the model (excluding IDs and labels)\n",
    "X = df[['voltage', 'current', 'power', 'energy', 'frequency', 'power_factor']]\n",
    "y = df['target']\n",
    "\n",
    "# Splitting the dataset\n",
    "X_train, X_test, y_train, y_test = train_test_split(X, y, test_size=0.2, random_state=42)\n",
    "\n",
    "# Training a Random Forest Classifier\n",
    "clf = RandomForestClassifier(n_estimators=100, random_state=42)\n",
    "clf.fit(X_train, y_train)\n",
    "\n",
    "# Getting feature importances\n",
    "feature_importances = clf.feature_importances_\n",
    "\n",
    "# Printing feature importances\n",
    "for feature, importance in zip(X.columns, feature_importances):\n",
    "    print(f\"{feature}: {importance}\")\n",
    "    \n",
    "# Make predictions on the test set\n",
    "y_pred = clf.predict(X_test)\n",
    "# Generate the confusion matrix\n",
    "conf_matrix = confusion_matrix(y_test, y_pred)\n",
    "\n",
    "# Visualize the confusion matrix (Optional)\n",
    "sns.heatmap(conf_matrix, annot=True, fmt='g', cmap='Blues')\n",
    "plt.xlabel('Predicted labels')\n",
    "plt.ylabel('True labels')\n",
    "plt.title('Confusion Matrix')\n",
    "plt.show()"
   ]
  },
  {
   "cell_type": "markdown",
   "metadata": {},
   "source": [
    "### RF to DBSCAN"
   ]
  },
  {
   "cell_type": "code",
   "execution_count": 109,
   "metadata": {},
   "outputs": [],
   "source": [
    "# # 'anomaly' is 1 and 'normal' is 0\n",
    "# df['target'] = df['dbscan_labels'].apply(lambda x: 1 if x == 'anomaly' else 0)\n",
    "\n",
    "# # Selecting features for the model (excluding IDs and labels)\n",
    "# X = df[['voltage', 'current', 'power', 'energy', 'frequency', 'power_factor']]\n",
    "# y = df['target']\n",
    "\n",
    "# # Splitting the dataset\n",
    "# X_train, X_test, y_train, y_test = train_test_split(X, y, test_size=0.2, random_state=42)\n",
    "\n",
    "# # Training a Random Forest Classifier\n",
    "# clf = RandomForestClassifier(n_estimators=100, random_state=42)\n",
    "# clf.fit(X_train, y_train)\n",
    "\n",
    "# # Getting feature importances\n",
    "# feature_importances = clf.feature_importances_\n",
    "\n",
    "# # Printing feature importances\n",
    "# for feature, importance in zip(X.columns, feature_importances):\n",
    "#     print(f\"{feature}: {importance}\")\n",
    "    \n",
    "# # Make predictions on the test set\n",
    "# y_pred = clf.predict(X_test)\n",
    "# # Generate the confusion matrix\n",
    "# conf_matrix = confusion_matrix(y_test, y_pred)\n",
    "\n",
    "# #\n",
    "# print(df['dbscan_labels'].value_counts())\n",
    "# print(df['dbscan_labels'])\n",
    "\n",
    "# # Visualize the confusion matrix (Optional)\n",
    "# sns.heatmap(conf_matrix, annot=True, fmt='g', cmap='Blues')\n",
    "# plt.xlabel('Predicted labels')\n",
    "# plt.ylabel('True labels')\n",
    "# plt.title('Confusion Matrix')\n",
    "# plt.show()"
   ]
  },
  {
   "cell_type": "markdown",
   "metadata": {},
   "source": [
    "### RF to OCSVM"
   ]
  },
  {
   "cell_type": "code",
   "execution_count": 110,
   "metadata": {},
   "outputs": [],
   "source": [
    "# # 'anomaly' is 1 and 'normal' is 0\n",
    "# df['target'] = df['ocsvm_labels'].apply(lambda x: 1 if x == 'anomaly' else 0)\n",
    "\n",
    "# # Selecting features for the model (excluding IDs and labels)\n",
    "# X = df[['voltage', 'current', 'power', 'energy', 'frequency', 'power_factor']]\n",
    "# y = df['target']\n",
    "\n",
    "# # Splitting the dataset\n",
    "# X_train, X_test, y_train, y_test = train_test_split(X, y, test_size=0.2, random_state=42)\n",
    "\n",
    "# # Training a Random Forest Classifier\n",
    "# clf = RandomForestClassifier(n_estimators=100, random_state=42)\n",
    "# clf.fit(X_train, y_train)\n",
    "\n",
    "# # Getting feature importances\n",
    "# feature_importances = clf.feature_importances_\n",
    "\n",
    "# # Printing feature importances\n",
    "# for feature, importance in zip(X.columns, feature_importances):\n",
    "#     print(f\"{feature}: {importance}\")\n",
    "\n",
    "# # Make predictions on the test set\n",
    "# y_pred = clf.predict(X_test)\n",
    "\n",
    "# # Generate the confusion matrix\n",
    "# conf_matrix = confusion_matrix(y_test, y_pred)\n",
    "\n",
    "# # Visualize the confusion matrix (Optional)\n",
    "# sns.heatmap(conf_matrix, annot=True, fmt='g', cmap='Blues')\n",
    "# plt.xlabel('Predicted labels')\n",
    "# plt.ylabel('True labels')\n",
    "# plt.title('Confusion Matrix')\n",
    "# plt.show()"
   ]
  },
  {
   "cell_type": "markdown",
   "metadata": {},
   "source": [
    "### RF confusion Matrix"
   ]
  },
  {
   "cell_type": "code",
   "execution_count": null,
   "metadata": {},
   "outputs": [],
   "source": []
  },
  {
   "cell_type": "markdown",
   "metadata": {},
   "source": [
    "#### Result"
   ]
  },
  {
   "cell_type": "code",
   "execution_count": null,
   "metadata": {},
   "outputs": [],
   "source": []
  }
 ],
 "metadata": {
  "kernelspec": {
   "display_name": "Python 3",
   "language": "python",
   "name": "python3"
  },
  "language_info": {
   "codemirror_mode": {
    "name": "ipython",
    "version": 3
   },
   "file_extension": ".py",
   "mimetype": "text/x-python",
   "name": "python",
   "nbconvert_exporter": "python",
   "pygments_lexer": "ipython3",
   "version": "3.11.5"
  }
 },
 "nbformat": 4,
 "nbformat_minor": 2
}
