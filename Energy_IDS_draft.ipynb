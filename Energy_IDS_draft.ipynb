{
 "cells": [
  {
   "cell_type": "markdown",
   "metadata": {},
   "source": [
    "# Testing Unsupervised + Supervised for Electricity Data"
   ]
  },
  {
   "cell_type": "code",
   "execution_count": 62,
   "metadata": {},
   "outputs": [],
   "source": [
    "# Import necessary libraries\n",
    "import pandas as pd\n",
    "import numpy as np\n",
    "import itertools\n",
    "import matplotlib.pyplot as plt\n",
    "import datetime\n",
    "\n",
    "import mysql.connector\n",
    "from sqlalchemy import create_engine, Column, Integer, Float, String, DateTime\n",
    "from sqlalchemy.ext.declarative import declarative_base\n",
    "from sqlalchemy.orm import sessionmaker, declarative_base\n",
    "\n",
    "from sklearn.preprocessing import StandardScaler\n",
    "from sklearn.cluster import DBSCAN\n",
    "from sklearn.tree import DecisionTreeClassifier\n",
    "from sklearn.metrics import classification_report, confusion_matrix, recall_score, roc_auc_score, make_scorer, accuracy_score, precision_score, f1_score\n",
    "from sklearn.utils import resample\n",
    "from sklearn.ensemble import IsolationForest, RandomForestClassifier\n",
    "from sklearn.neighbors import LocalOutlierFactor\n",
    "from sklearn.model_selection import GridSearchCV, train_test_split\n",
    "from sklearn.svm import OneClassSVM\n",
    "from sklearn.neighbors import NearestNeighbors\n",
    "import matplotlib.pyplot as plt\n",
    "import seaborn as sns"
   ]
  },
  {
   "cell_type": "markdown",
   "metadata": {},
   "source": [
    "## Datasets"
   ]
  },
  {
   "cell_type": "code",
   "execution_count": 63,
   "metadata": {},
   "outputs": [],
   "source": [
    "# Configure database connection\n",
    "db_config = {\n",
    "    'host': 'localhost',\n",
    "    'user': 'root',\n",
    "    'password': '',\n",
    "    'database': 'db_esp32'\n",
    "}\n",
    "\n",
    "# Create engine and session\n",
    "engine = create_engine('mysql+mysqlconnector://root:@localhost/db_esp32')\n",
    "Session = sessionmaker(bind=engine)\n",
    "session = Session()\n",
    "\n",
    "# Create the Base class\n",
    "Base = declarative_base()\n",
    "\n",
    "# Define the ElectricityMonitor class\n",
    "class ElectricityMonitor(Base):\n",
    "    __tablename__ = 'electricity_monitor'  # Use your actual table name here\n",
    "    data_id = Column(Integer, primary_key=True)\n",
    "    device_id = Column(String(255))\n",
    "    voltage = Column(Float)\n",
    "    current = Column(Float)\n",
    "    power = Column(Float)\n",
    "    energy = Column(Float)\n",
    "    frequency = Column(Float)\n",
    "    power_factor = Column(Float)\n",
    "    created_at = Column(DateTime)"
   ]
  },
  {
   "cell_type": "code",
   "execution_count": 64,
   "metadata": {},
   "outputs": [],
   "source": [
    "# Fetch data from the database with only power > 0 and order by created_at in descending order\n",
    "def fetch_data():\n",
    "    query = session.query(ElectricityMonitor).where(ElectricityMonitor.power > 0.5).order_by(ElectricityMonitor.created_at.desc())\n",
    "    df = pd.read_sql(query.statement, query.session.bind)\n",
    "    return df\n",
    "\n",
    "# Resample the data to 10% of the original dataset\n",
    "def sampled_data():\n",
    "    df_data = fetch_data()\n",
    "    df_sampled = resample(df_data, replace=False, n_samples=int(len(df_data) * 0.2), random_state=42)\n",
    "\n",
    "    return df_sampled"
   ]
  },
  {
   "cell_type": "markdown",
   "metadata": {},
   "source": [
    "## Pre-processing"
   ]
  },
  {
   "cell_type": "markdown",
   "metadata": {},
   "source": [
    "### Load Datasets"
   ]
  },
  {
   "cell_type": "code",
   "execution_count": 65,
   "metadata": {},
   "outputs": [
    {
     "name": "stdout",
     "output_type": "stream",
     "text": [
      "   data_id          device_id  voltage  current  power  energy  frequency  \\\n",
      "0   140364  D4:8A:FC:60:47:60    199.2    0.035    4.1   0.938       49.9   \n",
      "1   140363  D4:8A:FC:60:47:60    200.1    0.095   11.4   0.938       50.0   \n",
      "2   140362  D4:8A:FC:60:47:60    198.4    0.094   11.2   0.938       50.0   \n",
      "3   140361  D4:8A:FC:60:47:60    197.3    0.095   11.2   0.938       50.0   \n",
      "4   140360  D4:8A:FC:60:47:60    197.4    0.094   11.2   0.938       50.0   \n",
      "\n",
      "   power_factor          created_at  \n",
      "0          0.59 2024-07-13 18:05:24  \n",
      "1          0.60 2024-07-13 18:05:19  \n",
      "2          0.60 2024-07-13 18:05:14  \n",
      "3          0.60 2024-07-13 18:05:09  \n",
      "4          0.60 2024-07-13 18:05:04  \n",
      "data_id         17782\n",
      "device_id       17782\n",
      "voltage         17782\n",
      "current         17782\n",
      "power           17782\n",
      "energy          17782\n",
      "frequency       17782\n",
      "power_factor    17782\n",
      "created_at      17782\n",
      "dtype: int64\n"
     ]
    }
   ],
   "source": [
    "df = fetch_data()\n",
    "df_sampled = sampled_data()\n",
    "\n",
    "print(df.head())\n",
    "print(df.count())"
   ]
  },
  {
   "cell_type": "code",
   "execution_count": 66,
   "metadata": {},
   "outputs": [
    {
     "name": "stdout",
     "output_type": "stream",
     "text": [
      "count    1.778200e+04\n",
      "mean     1.176624e+04\n",
      "std      1.566714e+06\n",
      "min      6.000000e-01\n",
      "25%      1.080000e+01\n",
      "50%      1.670000e+01\n",
      "75%      2.010000e+01\n",
      "max      2.089200e+08\n",
      "Name: power, dtype: float64\n",
      "   data_id          device_id  voltage  current  power  energy  frequency  \\\n",
      "0   140364  D4:8A:FC:60:47:60    199.2    0.035    4.1   0.938       49.9   \n",
      "1   140363  D4:8A:FC:60:47:60    200.1    0.095   11.4   0.938       50.0   \n",
      "2   140362  D4:8A:FC:60:47:60    198.4    0.094   11.2   0.938       50.0   \n",
      "3   140361  D4:8A:FC:60:47:60    197.3    0.095   11.2   0.938       50.0   \n",
      "4   140360  D4:8A:FC:60:47:60    197.4    0.094   11.2   0.938       50.0   \n",
      "\n",
      "   power_factor          created_at  \n",
      "0          0.59 2024-07-13 18:05:24  \n",
      "1          0.60 2024-07-13 18:05:19  \n",
      "2          0.60 2024-07-13 18:05:14  \n",
      "3          0.60 2024-07-13 18:05:09  \n",
      "4          0.60 2024-07-13 18:05:04  \n"
     ]
    }
   ],
   "source": [
    "df['power'] = df['power'].round(2)\n",
    "print(df['power'].describe())\n",
    "print(df.head())"
   ]
  },
  {
   "cell_type": "markdown",
   "metadata": {},
   "source": [
    "#### Convert datetime into numeric"
   ]
  },
  {
   "cell_type": "code",
   "execution_count": 67,
   "metadata": {},
   "outputs": [],
   "source": [
    "# df['created_at'] = df['created_at'].astype('int64') // 10**9\n",
    "\n"
   ]
  },
  {
   "cell_type": "markdown",
   "metadata": {},
   "source": [
    "#### Handling missing values"
   ]
  },
  {
   "cell_type": "code",
   "execution_count": 68,
   "metadata": {},
   "outputs": [],
   "source": [
    "# print(df.isnull().sum())\n",
    "# df.fillna(df.median(), inplace=True)"
   ]
  },
  {
   "cell_type": "markdown",
   "metadata": {},
   "source": [
    "#### Calculate new features"
   ]
  },
  {
   "cell_type": "code",
   "execution_count": 69,
   "metadata": {},
   "outputs": [],
   "source": [
    "# Calculate features\n",
    "def calculate_features(df):\n",
    "    df['mean_consumption'] = df['energy'].mean()\n",
    "    df['std_deviation'] = df['energy'].std()\n",
    "    df['peak_consumption'] = df['energy'].max()\n",
    "    return df[['mean_consumption', 'std_deviation', 'peak_consumption', 'created_at']].iloc[-1]\n"
   ]
  },
  {
   "cell_type": "code",
   "execution_count": 70,
   "metadata": {},
   "outputs": [],
   "source": [
    "# new_features = calculate_features(df)"
   ]
  },
  {
   "cell_type": "markdown",
   "metadata": {},
   "source": [
    "## Unsupervised\n"
   ]
  },
  {
   "cell_type": "code",
   "execution_count": 71,
   "metadata": {},
   "outputs": [],
   "source": [
    "train_df, test_df = train_test_split(df, test_size=0.33, random_state=42)"
   ]
  },
  {
   "cell_type": "markdown",
   "metadata": {},
   "source": [
    "#### IF"
   ]
  },
  {
   "cell_type": "code",
   "execution_count": 72,
   "metadata": {},
   "outputs": [
    {
     "name": "stdout",
     "output_type": "stream",
     "text": [
      "if_labels\n",
      " 1    16003\n",
      "-1     1779\n",
      "Name: count, dtype: int64\n"
     ]
    }
   ],
   "source": [
    "features = ['voltage', 'current', 'power', 'energy', 'frequency', 'power_factor']\n",
    "# Train model\n",
    "if_model = IsolationForest(contamination=0.1, random_state=42)\n",
    "if_model.fit(df[features])\n",
    "\n",
    "# Predict Label\n",
    "df['if_labels'] = if_model.predict(df[features])\n",
    "\n",
    "print(df.value_counts('if_labels'))\n",
    "        "
   ]
  },
  {
   "cell_type": "markdown",
   "metadata": {},
   "source": [
    "#### OCSVM"
   ]
  },
  {
   "cell_type": "code",
   "execution_count": 73,
   "metadata": {},
   "outputs": [],
   "source": [
    "ocsvm = OneClassSVM(nu=0.1, gamma='auto')\n",
    "\n",
    "df['ocsvm_labels'] = ocsvm.fit_predict(df[features])  \n"
   ]
  },
  {
   "cell_type": "markdown",
   "metadata": {},
   "source": [
    "#### DBSCAN"
   ]
  },
  {
   "cell_type": "code",
   "execution_count": 74,
   "metadata": {},
   "outputs": [
    {
     "name": "stdout",
     "output_type": "stream",
     "text": [
      "DBSCAN Labels Distribution:\n",
      "   data_id          device_id  voltage  current  power  energy  frequency  \\\n",
      "0   140364  D4:8A:FC:60:47:60    199.2    0.035    4.1   0.938       49.9   \n",
      "1   140363  D4:8A:FC:60:47:60    200.1    0.095   11.4   0.938       50.0   \n",
      "2   140362  D4:8A:FC:60:47:60    198.4    0.094   11.2   0.938       50.0   \n",
      "3   140361  D4:8A:FC:60:47:60    197.3    0.095   11.2   0.938       50.0   \n",
      "4   140360  D4:8A:FC:60:47:60    197.4    0.094   11.2   0.938       50.0   \n",
      "\n",
      "   power_factor          created_at  if_labels  ocsvm_labels  dbscan_labels  \n",
      "0          0.59 2024-07-13 18:05:24          1            -1             -1  \n",
      "1          0.60 2024-07-13 18:05:19          1             1             -1  \n",
      "2          0.60 2024-07-13 18:05:14          1             1             -1  \n",
      "3          0.60 2024-07-13 18:05:09          1             1             -1  \n",
      "4          0.60 2024-07-13 18:05:04          1             1             -1  \n"
     ]
    },
    {
     "data": {
      "image/png": "[encoded data removed]",
      "text/plain": [
       "<Figure size 640x480 with 1 Axes>"
      ]
     },
     "metadata": {},
     "output_type": "display_data"
    }
   ],
   "source": [
    "def label_data_with_dbscan(df, eps=0.2, min_samples=25):\n",
    "    clustering = DBSCAN(eps=eps, min_samples=min_samples).fit(df[features])\n",
    "    df['dbscan_labels'] = clustering.fit_predict(df[features])\n",
    "    return df\n",
    "\n",
    "# df_sample = df.sample(n=2000, random_state=42)\n",
    "\n",
    "label_data_with_dbscan(df)\n",
    "print(\"DBSCAN Labels Distribution:\")\n",
    "\n",
    "print(df.head())\n",
    "# Visualize DBSCAN results\n",
    "sns.scatterplot(x='voltage', y='current', hue='dbscan_labels', data=df)\n",
    "plt.title('DBSCAN Clustering')\n",
    "plt.show()"
   ]
  },
  {
   "cell_type": "markdown",
   "metadata": {},
   "source": [
    "#### Cluster levels `normal` and `anomaly`"
   ]
  },
  {
   "cell_type": "code",
   "execution_count": 75,
   "metadata": {},
   "outputs": [],
   "source": [
    "df['if_labels'] = np.where(df['if_labels'] == 1, 'normal', 'anomaly')\n",
    "df['ocsvm_labels'] = np.where(df['ocsvm_labels'] == 1, 'normal', 'anomaly')\n",
    "# For DBSCAN, label -1 is considered an anomaly\n",
    "df['dbscan_labels'] = np.where(df['dbscan_labels'] == -1, 'anomaly', 'normal')"
   ]
  },
  {
   "cell_type": "code",
   "execution_count": 76,
   "metadata": {},
   "outputs": [
    {
     "name": "stdout",
     "output_type": "stream",
     "text": [
      "   data_id          device_id  voltage  current  power  energy  frequency  \\\n",
      "0   140364  D4:8A:FC:60:47:60    199.2    0.035    4.1   0.938       49.9   \n",
      "1   140363  D4:8A:FC:60:47:60    200.1    0.095   11.4   0.938       50.0   \n",
      "2   140362  D4:8A:FC:60:47:60    198.4    0.094   11.2   0.938       50.0   \n",
      "3   140361  D4:8A:FC:60:47:60    197.3    0.095   11.2   0.938       50.0   \n",
      "4   140360  D4:8A:FC:60:47:60    197.4    0.094   11.2   0.938       50.0   \n",
      "\n",
      "   power_factor          created_at if_labels ocsvm_labels dbscan_labels  \n",
      "0          0.59 2024-07-13 18:05:24    normal      anomaly       anomaly  \n",
      "1          0.60 2024-07-13 18:05:19    normal       normal       anomaly  \n",
      "2          0.60 2024-07-13 18:05:14    normal       normal       anomaly  \n",
      "3          0.60 2024-07-13 18:05:09    normal       normal       anomaly  \n",
      "4          0.60 2024-07-13 18:05:04    normal       normal       anomaly  \n"
     ]
    }
   ],
   "source": [
    "print(df.head())"
   ]
  },
  {
   "cell_type": "code",
   "execution_count": 77,
   "metadata": {},
   "outputs": [
    {
     "name": "stdout",
     "output_type": "stream",
     "text": [
      "   data_id          device_id  voltage  current  power  energy  frequency  \\\n",
      "0   140364  D4:8A:FC:60:47:60    199.2    0.035    4.1   0.938       49.9   \n",
      "1   140363  D4:8A:FC:60:47:60    200.1    0.095   11.4   0.938       50.0   \n",
      "2   140362  D4:8A:FC:60:47:60    198.4    0.094   11.2   0.938       50.0   \n",
      "3   140361  D4:8A:FC:60:47:60    197.3    0.095   11.2   0.938       50.0   \n",
      "4   140360  D4:8A:FC:60:47:60    197.4    0.094   11.2   0.938       50.0   \n",
      "\n",
      "   power_factor          created_at if_labels ocsvm_labels dbscan_labels  \n",
      "0          0.59 2024-07-13 18:05:24    normal      anomaly       anomaly  \n",
      "1          0.60 2024-07-13 18:05:19    normal       normal       anomaly  \n",
      "2          0.60 2024-07-13 18:05:14    normal       normal       anomaly  \n",
      "3          0.60 2024-07-13 18:05:09    normal       normal       anomaly  \n",
      "4          0.60 2024-07-13 18:05:04    normal       normal       anomaly  \n"
     ]
    }
   ],
   "source": [
    "filtered_df = df[df['if_labels'] == 'normal']\n",
    "\n",
    "print(filtered_df.head())"
   ]
  },
  {
   "cell_type": "markdown",
   "metadata": {},
   "source": [
    "## Supervised"
   ]
  },
  {
   "cell_type": "markdown",
   "metadata": {},
   "source": [
    "### RF to IF"
   ]
  },
  {
   "cell_type": "code",
   "execution_count": 81,
   "metadata": {},
   "outputs": [
    {
     "name": "stdout",
     "output_type": "stream",
     "text": [
      "voltage: 0.05847792968704724\n",
      "current: 0.3156692342428966\n",
      "power: 0.2354988882547088\n",
      "energy: 0.05053906204683759\n",
      "frequency: 0.061606886245071095\n",
      "power_factor: 0.27820799952343883\n"
     ]
    },
    {
     "data": {
      "image/png": "[encoded data removed]",
      "text/plain": [
       "<Figure size 640x480 with 2 Axes>"
      ]
     },
     "metadata": {},
     "output_type": "display_data"
    }
   ],
   "source": [
    "# 'anomaly' is 1 and 'normal' is 0\n",
    "df['target'] = df['if_labels'].apply(lambda x: 1 if x == 'anomaly' else 0)\n",
    "\n",
    "# Selecting features for the model (excluding IDs and labels)\n",
    "X = df[['voltage', 'current', 'power', 'energy', 'frequency', 'power_factor']]\n",
    "y = df['target']\n",
    "\n",
    "# Splitting the dataset\n",
    "X_train, X_test, y_train, y_test = train_test_split(X, y, test_size=0.33, random_state=42)\n",
    "\n",
    "# Training a Random Forest Classifier\n",
    "clf = RandomForestClassifier(n_estimators=100, random_state=42)\n",
    "clf.fit(X_train, y_train)\n",
    "\n",
    "# Getting feature importances\n",
    "feature_importances = clf.feature_importances_\n",
    "\n",
    "# Printing feature importances\n",
    "for feature, importance in zip(X.columns, feature_importances):\n",
    "    print(f\"{feature}: {importance}\")\n",
    "    \n",
    "# Make predictions on the test set\n",
    "y_pred = clf.predict(X_test)\n",
    "# Generate the confusion matrix\n",
    "conf_matrix = confusion_matrix(y_test, y_pred)\n",
    "\n",
    "# Visualize the confusion matrix (Optional)\n",
    "sns.heatmap(conf_matrix, annot=True, fmt='g', cmap='Blues')\n",
    "plt.xlabel('Predicted labels')\n",
    "plt.ylabel('True labels')\n",
    "plt.title('Confusion Matrix')\n",
    "plt.show()"
   ]
  },
  {
   "cell_type": "markdown",
   "metadata": {},
   "source": [
    "### RF to DBSCAN"
   ]
  },
  {
   "cell_type": "code",
   "execution_count": 79,
   "metadata": {},
   "outputs": [
    {
     "name": "stdout",
     "output_type": "stream",
     "text": [
      "voltage: 0.42877882382862953\n",
      "current: 0.1275104916495892\n",
      "power: 0.16391266981510486\n",
      "energy: 0.21182394693809162\n",
      "frequency: 0.014819073041441524\n",
      "power_factor: 0.053154994727143405\n",
      "dbscan_labels\n",
      "anomaly    16119\n",
      "normal      1663\n",
      "Name: count, dtype: int64\n",
      "0        anomaly\n",
      "1        anomaly\n",
      "2        anomaly\n",
      "3        anomaly\n",
      "4        anomaly\n",
      "          ...   \n",
      "17777    anomaly\n",
      "17778    anomaly\n",
      "17779    anomaly\n",
      "17780    anomaly\n",
      "17781    anomaly\n",
      "Name: dbscan_labels, Length: 17782, dtype: object\n"
     ]
    },
    {
     "data": {
      "image/png": "[encoded data removed]",
      "text/plain": [
       "<Figure size 640x480 with 2 Axes>"
      ]
     },
     "metadata": {},
     "output_type": "display_data"
    }
   ],
   "source": [
    "# 'anomaly' is 1 and 'normal' is 0\n",
    "df['target'] = df['dbscan_labels'].apply(lambda x: 1 if x == 'anomaly' else 0)\n",
    "\n",
    "# Selecting features for the model (excluding IDs and labels)\n",
    "X = df[['voltage', 'current', 'power', 'energy', 'frequency', 'power_factor']]\n",
    "y = df['target']\n",
    "\n",
    "# Splitting the dataset\n",
    "X_train, X_test, y_train, y_test = train_test_split(X, y, test_size=0.2, random_state=42)\n",
    "\n",
    "# Training a Random Forest Classifier\n",
    "clf = RandomForestClassifier(n_estimators=100, random_state=42)\n",
    "clf.fit(X_train, y_train)\n",
    "\n",
    "# Getting feature importances\n",
    "feature_importances = clf.feature_importances_\n",
    "\n",
    "# Printing feature importances\n",
    "for feature, importance in zip(X.columns, feature_importances):\n",
    "    print(f\"{feature}: {importance}\")\n",
    "    \n",
    "# Make predictions on the test set\n",
    "y_pred = clf.predict(X_test)\n",
    "# Generate the confusion matrix\n",
    "conf_matrix = confusion_matrix(y_test, y_pred)\n",
    "\n",
    "#\n",
    "print(df['dbscan_labels'].value_counts())\n",
    "print(df['dbscan_labels'])\n",
    "\n",
    "# Visualize the confusion matrix (Optional)\n",
    "sns.heatmap(conf_matrix, annot=True, fmt='g', cmap='Blues')\n",
    "plt.xlabel('Predicted labels')\n",
    "plt.ylabel('True labels')\n",
    "plt.title('Confusion Matrix')\n",
    "plt.show()"
   ]
  },
  {
   "cell_type": "markdown",
   "metadata": {},
   "source": [
    "### RF to OCSVM"
   ]
  },
  {
   "cell_type": "code",
   "execution_count": 80,
   "metadata": {},
   "outputs": [
    {
     "name": "stdout",
     "output_type": "stream",
     "text": [
      "voltage: 0.2572702375311823\n",
      "current: 0.24211599190486427\n",
      "power: 0.25925268881228525\n",
      "energy: 0.14122793922763216\n",
      "frequency: 0.01229090442888928\n",
      "power_factor: 0.08784223809514681\n"
     ]
    },
    {
     "data": {
      "image/png": "[encoded data removed]",
      "text/plain": [
       "<Figure size 640x480 with 2 Axes>"
      ]
     },
     "metadata": {},
     "output_type": "display_data"
    }
   ],
   "source": [
    "# 'anomaly' is 1 and 'normal' is 0\n",
    "df['target'] = df['ocsvm_labels'].apply(lambda x: 1 if x == 'anomaly' else 0)\n",
    "\n",
    "# Selecting features for the model (excluding IDs and labels)\n",
    "X = df[['voltage', 'current', 'power', 'energy', 'frequency', 'power_factor']]\n",
    "y = df['target']\n",
    "\n",
    "# Splitting the dataset\n",
    "X_train, X_test, y_train, y_test = train_test_split(X, y, test_size=0.2, random_state=42)\n",
    "\n",
    "# Training a Random Forest Classifier\n",
    "clf = RandomForestClassifier(n_estimators=100, random_state=42)\n",
    "clf.fit(X_train, y_train)\n",
    "\n",
    "# Getting feature importances\n",
    "feature_importances = clf.feature_importances_\n",
    "\n",
    "# Printing feature importances\n",
    "for feature, importance in zip(X.columns, feature_importances):\n",
    "    print(f\"{feature}: {importance}\")\n",
    "\n",
    "# Make predictions on the test set\n",
    "y_pred = clf.predict(X_test)\n",
    "\n",
    "# Generate the confusion matrix\n",
    "conf_matrix = confusion_matrix(y_test, y_pred)\n",
    "\n",
    "# Visualize the confusion matrix (Optional)\n",
    "sns.heatmap(conf_matrix, annot=True, fmt='g', cmap='Blues')\n",
    "plt.xlabel('Predicted labels')\n",
    "plt.ylabel('True labels')\n",
    "plt.title('Confusion Matrix')\n",
    "plt.show()"
   ]
  },
  {
   "cell_type": "markdown",
   "metadata": {},
   "source": [
    "### RF confusion Matrix"
   ]
  },
  {
   "cell_type": "code",
   "execution_count": null,
   "metadata": {},
   "outputs": [],
   "source": []
  },
  {
   "cell_type": "markdown",
   "metadata": {},
   "source": [
    "#### Result"
   ]
  },
  {
   "cell_type": "code",
   "execution_count": null,
   "metadata": {},
   "outputs": [],
   "source": []
  }
 ],
 "metadata": {
  "kernelspec": {
   "display_name": "Python 3",
   "language": "python",
   "name": "python3"
  },
  "language_info": {
   "codemirror_mode": {
    "name": "ipython",
    "version": 3
   },
   "file_extension": ".py",
   "mimetype": "text/x-python",
   "name": "python",
   "nbconvert_exporter": "python",
   "pygments_lexer": "ipython3",
   "version": "3.11.5"
  }
 },
 "nbformat": 4,
 "nbformat_minor": 2
}
